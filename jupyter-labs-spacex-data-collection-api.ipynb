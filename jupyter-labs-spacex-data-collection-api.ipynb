{
 "cells": [
  {
   "cell_type": "markdown",
   "metadata": {},
   "source": [
    "<p style=\"text-align:center\">\n",
    "    <a href=\"https://skills.network/?utm_medium=Exinfluencer&utm_source=Exinfluencer&utm_content=000026UJ&utm_term=10006555&utm_id=NA-SkillsNetwork-Channel-SkillsNetworkCoursesIBMDS0321ENSkillsNetwork865-2022-01-01\" target=\"_blank\">\n",
    "    <img src=\"https://cf-courses-data.s3.us.cloud-object-storage.appdomain.cloud/assets/logos/SN_web_lightmode.png\" width=\"200\" alt=\"Skills Network Logo\"  />\n",
    "    </a>\n",
    "</p>\n"
   ]
  },
  {
   "cell_type": "markdown",
   "metadata": {},
   "source": [
    "# **SpaceX  Falcon 9 first stage Landing Prediction**\n"
   ]
  },
  {
   "cell_type": "markdown",
   "metadata": {},
   "source": [
    "# Lab 1: Collecting the data\n"
   ]
  },
  {
   "cell_type": "markdown",
   "metadata": {},
   "source": [
    "Estimated time needed: **45** minutes\n"
   ]
  },
  {
   "cell_type": "markdown",
   "metadata": {},
   "source": [
    "In this capstone, we will predict if the Falcon 9 first stage will land successfully. SpaceX advertises Falcon 9 rocket launches on its website with a cost of 62 million dollars; other providers cost upward of 165 million dollars each, much of the savings is because SpaceX can reuse the first stage. Therefore if we can determine if the first stage will land, we can determine the cost of a launch. This information can be used if an alternate company wants to bid against SpaceX for a rocket launch. In this lab, you will collect and make sure the data is in the correct format from an API. The following is an example of a successful and launch.\n"
   ]
  },
  {
   "cell_type": "markdown",
   "metadata": {},
   "source": [
    "![](https://cf-courses-data.s3.us.cloud-object-storage.appdomain.cloud/IBMDeveloperSkillsNetwork-DS0701EN-SkillsNetwork/lab_v2/images/landing_1.gif)\n"
   ]
  },
  {
   "cell_type": "markdown",
   "metadata": {},
   "source": [
    "Several examples of an unsuccessful landing are shown here:\n"
   ]
  },
  {
   "cell_type": "markdown",
   "metadata": {},
   "source": [
    "![](https://cf-courses-data.s3.us.cloud-object-storage.appdomain.cloud/IBMDeveloperSkillsNetwork-DS0701EN-SkillsNetwork/lab_v2/images/crash.gif)\n"
   ]
  },
  {
   "cell_type": "markdown",
   "metadata": {},
   "source": [
    "Most unsuccessful landings are planned. Space X performs a controlled landing in the oceans. \n"
   ]
  },
  {
   "cell_type": "markdown",
   "metadata": {},
   "source": [
    "## Objectives\n"
   ]
  },
  {
   "cell_type": "markdown",
   "metadata": {},
   "source": [
    "In this lab, you will make a get request to the SpaceX API. You will also do some basic data wrangling and formating. \n",
    "\n",
    "- Request to the SpaceX API\n",
    "- Clean the requested data\n"
   ]
  },
  {
   "cell_type": "markdown",
   "metadata": {},
   "source": [
    "----\n"
   ]
  },
  {
   "cell_type": "markdown",
   "metadata": {},
   "source": [
    "## Import Libraries and Define Auxiliary Functions\n"
   ]
  },
  {
   "cell_type": "markdown",
   "metadata": {},
   "source": [
    "We will import the following libraries into the lab\n"
   ]
  },
  {
   "cell_type": "code",
   "execution_count": 1,
   "metadata": {
    "tags": []
   },
   "outputs": [],
   "source": [
    "# Requests allows us to make HTTP requests which we will use to get data from an API\n",
    "import requests\n",
    "# Pandas is a software library written for the Python programming language for data manipulation and analysis.\n",
    "import pandas as pd\n",
    "# NumPy is a library for the Python programming language, adding support for large, multi-dimensional arrays and matrices, along with a large collection of high-level mathematical functions to operate on these arrays\n",
    "import numpy as np\n",
    "# Datetime is a library that allows us to represent dates\n",
    "import datetime\n",
    "\n",
    "# Setting this option will print all collumns of a dataframe\n",
    "pd.set_option('display.max_columns', None)\n",
    "# Setting this option will print all of the data in a feature\n",
    "pd.set_option('display.max_colwidth', None)"
   ]
  },
  {
   "cell_type": "markdown",
   "metadata": {},
   "source": [
    "Below we will define a series of helper functions that will help us use the API to extract information using identification numbers in the launch data.\n",
    "\n",
    "From the <code>rocket</code> column we would like to learn the booster name.\n"
   ]
  },
  {
   "cell_type": "code",
   "execution_count": 2,
   "metadata": {
    "tags": []
   },
   "outputs": [],
   "source": [
    "# Takes the dataset and uses the rocket column to call the API and append the data to the list\n",
    "def getBoosterVersion(data):\n",
    "    for x in data['rocket']:\n",
    "       if x:\n",
    "        response = requests.get(\"https://api.spacexdata.com/v4/rockets/\"+str(x)).json()\n",
    "        BoosterVersion.append(response['name'])"
   ]
  },
  {
   "cell_type": "markdown",
   "metadata": {},
   "source": [
    "From the <code>launchpad</code> we would like to know the name of the launch site being used, the logitude, and the latitude.\n"
   ]
  },
  {
   "cell_type": "code",
   "execution_count": 3,
   "metadata": {
    "tags": []
   },
   "outputs": [],
   "source": [
    "# Takes the dataset and uses the launchpad column to call the API and append the data to the list\n",
    "def getLaunchSite(data):\n",
    "    for x in data['launchpad']:\n",
    "       if x:\n",
    "         response = requests.get(\"https://api.spacexdata.com/v4/launchpads/\"+str(x)).json()\n",
    "         Longitude.append(response['longitude'])\n",
    "         Latitude.append(response['latitude'])\n",
    "         LaunchSite.append(response['name'])"
   ]
  },
  {
   "cell_type": "markdown",
   "metadata": {},
   "source": [
    "From the <code>payload</code> we would like to learn the mass of the payload and the orbit that it is going to.\n"
   ]
  },
  {
   "cell_type": "code",
   "execution_count": 4,
   "metadata": {
    "tags": []
   },
   "outputs": [],
   "source": [
    "# Takes the dataset and uses the payloads column to call the API and append the data to the lists\n",
    "def getPayloadData(data):\n",
    "    for load in data['payloads']:\n",
    "       if load:\n",
    "        response = requests.get(\"https://api.spacexdata.com/v4/payloads/\"+load).json()\n",
    "        PayloadMass.append(response['mass_kg'])\n",
    "        Orbit.append(response['orbit'])"
   ]
  },
  {
   "cell_type": "markdown",
   "metadata": {},
   "source": [
    "From <code>cores</code> we would like to learn the outcome of the landing, the type of the landing, number of flights with that core, whether gridfins were used, wheter the core is reused, wheter legs were used, the landing pad used, the block of the core which is a number used to seperate version of cores, the number of times this specific core has been reused, and the serial of the core.\n"
   ]
  },
  {
   "cell_type": "code",
   "execution_count": 5,
   "metadata": {
    "tags": []
   },
   "outputs": [],
   "source": [
    "# Takes the dataset and uses the cores column to call the API and append the data to the lists\n",
    "def getCoreData(data):\n",
    "    for core in data['cores']:\n",
    "            if core['core'] != None:\n",
    "                response = requests.get(\"https://api.spacexdata.com/v4/cores/\"+core['core']).json()\n",
    "                Block.append(response['block'])\n",
    "                ReusedCount.append(response['reuse_count'])\n",
    "                Serial.append(response['serial'])\n",
    "            else:\n",
    "                Block.append(None)\n",
    "                ReusedCount.append(None)\n",
    "                Serial.append(None)\n",
    "            Outcome.append(str(core['landing_success'])+' '+str(core['landing_type']))\n",
    "            Flights.append(core['flight'])\n",
    "            GridFins.append(core['gridfins'])\n",
    "            Reused.append(core['reused'])\n",
    "            Legs.append(core['legs'])\n",
    "            LandingPad.append(core['landpad'])"
   ]
  },
  {
   "cell_type": "markdown",
   "metadata": {},
   "source": [
    "Now let's start requesting rocket launch data from SpaceX API with the following URL:\n"
   ]
  },
  {
   "cell_type": "code",
   "execution_count": 6,
   "metadata": {
    "tags": []
   },
   "outputs": [],
   "source": [
    "spacex_url=\"https://api.spacexdata.com/v4/launches/past\""
   ]
  },
  {
   "cell_type": "code",
   "execution_count": 7,
   "metadata": {
    "tags": []
   },
   "outputs": [],
   "source": [
    "response = requests.get(spacex_url)"
   ]
  },
  {
   "cell_type": "markdown",
   "metadata": {},
   "source": [
    "Check the content of the response\n"
   ]
  },
  {
   "cell_type": "code",
   "execution_count": null,
   "metadata": {
    "tags": []
   },
   "outputs": [],
   "source": [
    "print(response.content)"
   ]
  },
  {
   "cell_type": "markdown",
   "metadata": {},
   "source": [
    "You should see the response contains massive information about SpaceX launches. Next, let's try to discover some more relevant information for this project.\n"
   ]
  },
  {
   "cell_type": "markdown",
   "metadata": {},
   "source": [
    "### Task 1: Request and parse the SpaceX launch data using the GET request\n"
   ]
  },
  {
   "cell_type": "markdown",
   "metadata": {},
   "source": [
    "To make the requested JSON results more consistent, we will use the following static response object for this project:\n"
   ]
  },
  {
   "cell_type": "code",
   "execution_count": 14,
   "metadata": {
    "tags": []
   },
   "outputs": [],
   "source": [
    "static_json_url='https://cf-courses-data.s3.us.cloud-object-storage.appdomain.cloud/IBM-DS0321EN-SkillsNetwork/datasets/API_call_spacex_api.json'"
   ]
  },
  {
   "cell_type": "markdown",
   "metadata": {},
   "source": [
    "We should see that the request was successfull with the 200 status response code\n"
   ]
  },
  {
   "cell_type": "code",
   "execution_count": 15,
   "metadata": {
    "tags": []
   },
   "outputs": [
    {
     "data": {
      "text/plain": [
       "200"
      ]
     },
     "execution_count": 15,
     "metadata": {},
     "output_type": "execute_result"
    }
   ],
   "source": [
    "response.status_code"
   ]
  },
  {
   "cell_type": "markdown",
   "metadata": {},
   "source": [
    "Now we decode the response content as a Json using <code>.json()</code> and turn it into a Pandas dataframe using <code>.json_normalize()</code>\n"
   ]
  },
  {
   "cell_type": "code",
   "execution_count": 16,
   "metadata": {
    "tags": []
   },
   "outputs": [],
   "source": [
    "# Use json_normalize meethod to convert the json result into a dataframe\n",
    "res = requests.get(static_json_url)\n",
    "static_json_df = res.json()"
   ]
  },
  {
   "cell_type": "markdown",
   "metadata": {},
   "source": [
    "Using the dataframe <code>data</code> print the first 5 rows\n"
   ]
  },
  {
   "cell_type": "code",
   "execution_count": 17,
   "metadata": {
    "tags": []
   },
   "outputs": [],
   "source": [
    "# Get the head of the dataframe\n",
    "data = pd.json_normalize(static_json_df)"
   ]
  },
  {
   "cell_type": "markdown",
   "metadata": {},
   "source": [
    "You will notice that a lot of the data are IDs. For example the rocket column has no information about the rocket just an identification number.\n",
    "\n",
    "We will now use the API again to get information about the launches using the IDs given for each launch. Specifically we will be using columns <code>rocket</code>, <code>payloads</code>, <code>launchpad</code>, and <code>cores</code>.\n"
   ]
  },
  {
   "cell_type": "code",
   "execution_count": 18,
   "metadata": {
    "tags": []
   },
   "outputs": [],
   "source": [
    "# Lets take a subset of our dataframe keeping only the features we want and the flight number, and date_utc.\n",
    "data = data[['rocket', 'payloads', 'launchpad', 'cores', 'flight_number', 'date_utc']]\n",
    "\n",
    "# We will remove rows with multiple cores because those are falcon rockets with 2 extra rocket boosters and rows that have multiple payloads in a single rocket.\n",
    "data = data[data['cores'].map(len)==1]\n",
    "data = data[data['payloads'].map(len)==1]\n",
    "\n",
    "# Since payloads and cores are lists of size 1 we will also extract the single value in the list and replace the feature.\n",
    "data['cores'] = data['cores'].map(lambda x : x[0])\n",
    "data['payloads'] = data['payloads'].map(lambda x : x[0])\n",
    "\n",
    "# We also want to convert the date_utc to a datetime datatype and then extracting the date leaving the time\n",
    "data['date'] = pd.to_datetime(data['date_utc']).dt.date\n",
    "\n",
    "# Using the date we will restrict the dates of the launches\n",
    "data = data[data['date'] <= datetime.date(2020, 11, 13)]"
   ]
  },
  {
   "cell_type": "markdown",
   "metadata": {},
   "source": [
    "* From the <code>rocket</code> we would like to learn the booster name\n",
    "\n",
    "* From the <code>payload</code> we would like to learn the mass of the payload and the orbit that it is going to\n",
    "\n",
    "* From the <code>launchpad</code> we would like to know the name of the launch site being used, the longitude, and the latitude.\n",
    "\n",
    "* From <code>cores</code> we would like to learn the outcome of the landing, the type of the landing, number of flights with that core, whether gridfins were used, whether the core is reused, whether legs were used, the landing pad used, the block of the core which is a number used to seperate version of cores, the number of times this specific core has been reused, and the serial of the core.\n",
    "\n",
    "The data from these requests will be stored in lists and will be used to create a new dataframe.\n"
   ]
  },
  {
   "cell_type": "code",
   "execution_count": 19,
   "metadata": {
    "tags": []
   },
   "outputs": [],
   "source": [
    "#Global variables \n",
    "BoosterVersion = []\n",
    "PayloadMass = []\n",
    "Orbit = []\n",
    "LaunchSite = []\n",
    "Outcome = []\n",
    "Flights = []\n",
    "GridFins = []\n",
    "Reused = []\n",
    "Legs = []\n",
    "LandingPad = []\n",
    "Block = []\n",
    "ReusedCount = []\n",
    "Serial = []\n",
    "Longitude = []\n",
    "Latitude = []"
   ]
  },
  {
   "cell_type": "markdown",
   "metadata": {},
   "source": [
    "These functions will apply the outputs globally to the above variables. Let's take a looks at <code>BoosterVersion</code> variable. Before we apply  <code>getBoosterVersion</code> the list is empty:\n"
   ]
  },
  {
   "cell_type": "code",
   "execution_count": 20,
   "metadata": {
    "tags": []
   },
   "outputs": [
    {
     "data": {
      "text/plain": [
       "[]"
      ]
     },
     "execution_count": 20,
     "metadata": {},
     "output_type": "execute_result"
    }
   ],
   "source": [
    "BoosterVersion"
   ]
  },
  {
   "cell_type": "markdown",
   "metadata": {},
   "source": [
    "Now, let's apply <code> getBoosterVersion</code> function method to get the booster version\n"
   ]
  },
  {
   "cell_type": "code",
   "execution_count": 21,
   "metadata": {
    "tags": []
   },
   "outputs": [],
   "source": [
    "# Call getBoosterVersion\n",
    "getBoosterVersion(data)"
   ]
  },
  {
   "cell_type": "markdown",
   "metadata": {},
   "source": [
    "the list has now been update \n"
   ]
  },
  {
   "cell_type": "code",
   "execution_count": 22,
   "metadata": {
    "tags": []
   },
   "outputs": [
    {
     "data": {
      "text/plain": [
       "['Falcon 1', 'Falcon 1', 'Falcon 1', 'Falcon 1', 'Falcon 9']"
      ]
     },
     "execution_count": 22,
     "metadata": {},
     "output_type": "execute_result"
    }
   ],
   "source": [
    "BoosterVersion[0:5]"
   ]
  },
  {
   "cell_type": "markdown",
   "metadata": {},
   "source": [
    "we can apply the rest of the  functions here:\n"
   ]
  },
  {
   "cell_type": "code",
   "execution_count": 23,
   "metadata": {
    "tags": []
   },
   "outputs": [],
   "source": [
    "# Call getLaunchSite\n",
    "getLaunchSite(data)"
   ]
  },
  {
   "cell_type": "code",
   "execution_count": 24,
   "metadata": {
    "tags": []
   },
   "outputs": [],
   "source": [
    "# Call getPayloadData\n",
    "getPayloadData(data)"
   ]
  },
  {
   "cell_type": "code",
   "execution_count": 25,
   "metadata": {
    "tags": []
   },
   "outputs": [],
   "source": [
    "# Call getCoreData\n",
    "getCoreData(data)"
   ]
  },
  {
   "cell_type": "markdown",
   "metadata": {},
   "source": [
    "Finally lets construct our dataset using the data we have obtained. We we combine the columns into a dictionary.\n"
   ]
  },
  {
   "cell_type": "code",
   "execution_count": 26,
   "metadata": {
    "tags": []
   },
   "outputs": [],
   "source": [
    "launch_dict = {'FlightNumber': list(data['flight_number']),\n",
    "'Date': list(data['date']),\n",
    "'BoosterVersion':BoosterVersion,\n",
    "'PayloadMass':PayloadMass,\n",
    "'Orbit':Orbit,\n",
    "'LaunchSite':LaunchSite,\n",
    "'Outcome':Outcome,\n",
    "'Flights':Flights,\n",
    "'GridFins':GridFins,\n",
    "'Reused':Reused,\n",
    "'Legs':Legs,\n",
    "'LandingPad':LandingPad,\n",
    "'Block':Block,\n",
    "'ReusedCount':ReusedCount,\n",
    "'Serial':Serial,\n",
    "'Longitude': Longitude,\n",
    "'Latitude': Latitude}\n"
   ]
  },
  {
   "cell_type": "markdown",
   "metadata": {},
   "source": [
    "Then, we need to create a Pandas data frame from the dictionary launch_dict.\n"
   ]
  },
  {
   "cell_type": "code",
   "execution_count": 27,
   "metadata": {
    "tags": []
   },
   "outputs": [],
   "source": [
    "# Create a data from launch_dict\n",
    "launch_df = pd.DataFrame([launch_dict])"
   ]
  },
  {
   "cell_type": "markdown",
   "metadata": {},
   "source": [
    "Show the summary of the dataframe\n"
   ]
  },
  {
   "cell_type": "code",
   "execution_count": 28,
   "metadata": {
    "tags": []
   },
   "outputs": [
    {
     "data": {
      "text/html": [
       "<div>\n",
       "<style scoped>\n",
       "    .dataframe tbody tr th:only-of-type {\n",
       "        vertical-align: middle;\n",
       "    }\n",
       "\n",
       "    .dataframe tbody tr th {\n",
       "        vertical-align: top;\n",
       "    }\n",
       "\n",
       "    .dataframe thead th {\n",
       "        text-align: right;\n",
       "    }\n",
       "</style>\n",
       "<table border=\"1\" class=\"dataframe\">\n",
       "  <thead>\n",
       "    <tr style=\"text-align: right;\">\n",
       "      <th></th>\n",
       "      <th>FlightNumber</th>\n",
       "      <th>Date</th>\n",
       "      <th>BoosterVersion</th>\n",
       "      <th>PayloadMass</th>\n",
       "      <th>Orbit</th>\n",
       "      <th>LaunchSite</th>\n",
       "      <th>Outcome</th>\n",
       "      <th>Flights</th>\n",
       "      <th>GridFins</th>\n",
       "      <th>Reused</th>\n",
       "      <th>Legs</th>\n",
       "      <th>LandingPad</th>\n",
       "      <th>Block</th>\n",
       "      <th>ReusedCount</th>\n",
       "      <th>Serial</th>\n",
       "      <th>Longitude</th>\n",
       "      <th>Latitude</th>\n",
       "    </tr>\n",
       "  </thead>\n",
       "  <tbody>\n",
       "    <tr>\n",
       "      <th>0</th>\n",
       "      <td>[1, 2, 4, 5, 6, 8, 10, 11, 12, 13, 14, 15, 16, 17, 18, 19, 20, 22, 23, 24, 25, 26, 27, 28, 29, 30, 32, 33, 34, 35, 36, 37, 38, 39, 40, 41, 42, 43, 44, 45, 46, 47, 48, 49, 50, 51, 52, 53, 54, 57, 58, 59, 60, 61, 63, 64, 65, 66, 67, 68, 69, 70, 71, 72, 73, 74, 76, 78, 79, 80, 82, 83, 84, 85, 86, 87, 88, 89, 90, 91, 92, 93, 94, 95, 96, 97, 98, 100, 101, 102, 103, 104, 105, 106]</td>\n",
       "      <td>[2006-03-24, 2007-03-21, 2008-09-28, 2009-07-13, 2010-06-04, 2012-05-22, 2013-03-01, 2013-09-29, 2013-12-03, 2014-01-06, 2014-04-18, 2014-07-14, 2014-08-05, 2014-09-07, 2014-09-21, 2015-01-10, 2015-02-11, 2015-04-14, 2015-04-27, 2015-06-28, 2015-12-22, 2016-01-17, 2016-03-04, 2016-04-08, 2016-05-06, 2016-05-27, 2016-07-18, 2016-08-14, 2016-09-01, 2017-01-14, 2017-02-19, 2017-03-16, 2017-03-30, 2017-05-01, 2017-05-15, 2017-06-03, 2017-06-23, 2017-06-25, 2017-07-05, 2017-08-14, 2017-08-24, 2017-09-07, 2017-10-09, 2017-10-11, 2017-10-30, 2017-12-15, 2017-12-23, 2018-01-08, 2018-01-31, 2018-03-06, 2018-03-30, 2018-04-02, 2018-04-18, 2018-05-11, 2018-06-04, 2018-06-29, 2018-07-22, 2018-07-25, 2018-08-07, 2018-09-10, 2018-10-08, 2018-11-15, 2018-12-03, 2018-12-05, 2018-12-23, 2019-01-11, 2019-03-02, 2019-05-04, 2019-05-24, 2019-06-12, 2019-07-25, 2019-08-06, 2019-11-11, 2019-12-05, 2019-12-17, 2020-01-07, 2020-01-19, 2020-01-29, 2020-02-17, 2020-03-07, 2020-03-18, 2020-04-22, 2020-05-30, 2020-06-04, 2020-06-13, 2020-06-30, 2020-07-20, 2020-08-18, 2020-08-30, 2020-09-03, 2020-10-06, 2020-10-18, 2020-10-24, 2020-11-05]</td>\n",
       "      <td>[Falcon 1, Falcon 1, Falcon 1, Falcon 1, Falcon 9, Falcon 9, Falcon 9, Falcon 9, Falcon 9, Falcon 9, Falcon 9, Falcon 9, Falcon 9, Falcon 9, Falcon 9, Falcon 9, Falcon 9, Falcon 9, Falcon 9, Falcon 9, Falcon 9, Falcon 9, Falcon 9, Falcon 9, Falcon 9, Falcon 9, Falcon 9, Falcon 9, Falcon 9, Falcon 9, Falcon 9, Falcon 9, Falcon 9, Falcon 9, Falcon 9, Falcon 9, Falcon 9, Falcon 9, Falcon 9, Falcon 9, Falcon 9, Falcon 9, Falcon 9, Falcon 9, Falcon 9, Falcon 9, Falcon 9, Falcon 9, Falcon 9, Falcon 9, Falcon 9, Falcon 9, Falcon 9, Falcon 9, Falcon 9, Falcon 9, Falcon 9, Falcon 9, Falcon 9, Falcon 9, Falcon 9, Falcon 9, Falcon 9, Falcon 9, Falcon 9, Falcon 9, Falcon 9, Falcon 9, Falcon 9, Falcon 9, Falcon 9, Falcon 9, Falcon 9, Falcon 9, Falcon 9, Falcon 9, Falcon 9, Falcon 9, Falcon 9, Falcon 9, Falcon 9, Falcon 9, Falcon 9, Falcon 9, Falcon 9, Falcon 9, Falcon 9, Falcon 9, Falcon 9, Falcon 9, Falcon 9, Falcon 9, Falcon 9, Falcon 9]</td>\n",
       "      <td>[20, None, 165, 200, None, 525, 677, 500, 3170, 3325, 2296, 1316, 4535, 4428, 2216, 2395, 570, 1898, 4707, 2477, 2034, 553, 5271, 3136, 4696, 3100, 2257, 4600, 5500, 9600, 2490, 5600, 5300, None, 6070, 2708, 3669, 9600, 6761, 2910, 475, 4990, 9600, 5200, 3700, 2205, 9600, None, 4230, 6092, 9600, 2760, 350, 3750, 5383.85, 2410, 7076, 9600, 5800, 7060, 2800, 3000, 4000, 2573, 4400, 9600, 12259, 2482, 13200, 1425, 2227.7, 6500, 15600, 5000, 6800, 15600, None, 15600, 15600, 1977, 15600, 15600, 9525, 15600, 15600, 3880, None, 15600, 1600, 15600, 15600, 15600, 15600, 3681]</td>\n",
       "      <td>[LEO, LEO, LEO, LEO, LEO, LEO, ISS, PO, GTO, GTO, ISS, LEO, GTO, GTO, ISS, ISS, ES-L1, ISS, GTO, ISS, LEO, PO, GTO, ISS, GTO, GTO, ISS, GTO, GTO, PO, ISS, GTO, GTO, LEO, GTO, ISS, GTO, PO, GTO, ISS, SSO, LEO, PO, GTO, GTO, ISS, PO, LEO, GTO, GTO, PO, ISS, HEO, GTO, GTO, ISS, GTO, PO, GTO, GTO, SSO, GTO, SSO, ISS, MEO, PO, ISS, ISS, VLEO, SSO, ISS, GTO, VLEO, ISS, GTO, VLEO, SO, VLEO, VLEO, ISS, VLEO, VLEO, ISS, VLEO, VLEO, MEO, GEO, VLEO, SSO, VLEO, VLEO, VLEO, VLEO, MEO]</td>\n",
       "      <td>[Kwajalein Atoll, Kwajalein Atoll, Kwajalein Atoll, Kwajalein Atoll, CCSFS SLC 40, CCSFS SLC 40, CCSFS SLC 40, VAFB SLC 4E, CCSFS SLC 40, CCSFS SLC 40, CCSFS SLC 40, CCSFS SLC 40, CCSFS SLC 40, CCSFS SLC 40, CCSFS SLC 40, CCSFS SLC 40, CCSFS SLC 40, CCSFS SLC 40, CCSFS SLC 40, CCSFS SLC 40, CCSFS SLC 40, VAFB SLC 4E, CCSFS SLC 40, CCSFS SLC 40, CCSFS SLC 40, CCSFS SLC 40, CCSFS SLC 40, CCSFS SLC 40, CCSFS SLC 40, VAFB SLC 4E, KSC LC 39A, KSC LC 39A, KSC LC 39A, KSC LC 39A, KSC LC 39A, KSC LC 39A, KSC LC 39A, VAFB SLC 4E, KSC LC 39A, KSC LC 39A, VAFB SLC 4E, KSC LC 39A, VAFB SLC 4E, KSC LC 39A, KSC LC 39A, CCSFS SLC 40, VAFB SLC 4E, CCSFS SLC 40, CCSFS SLC 40, CCSFS SLC 40, VAFB SLC 4E, CCSFS SLC 40, CCSFS SLC 40, KSC LC 39A, CCSFS SLC 40, CCSFS SLC 40, CCSFS SLC 40, VAFB SLC 4E, CCSFS SLC 40, CCSFS SLC 40, VAFB SLC 4E, KSC LC 39A, VAFB SLC 4E, CCSFS SLC 40, CCSFS SLC 40, VAFB SLC 4E, KSC LC 39A, CCSFS SLC 40, CCSFS SLC 40, VAFB SLC 4E, CCSFS SLC 40, CCSFS SLC 40, CCSFS SLC 40, CCSFS SLC 40, CCSFS SLC 40, CCSFS SLC 40, KSC LC 39A, CCSFS SLC 40, CCSFS SLC 40, CCSFS SLC 40, KSC LC 39A, KSC LC 39A, KSC LC 39A, CCSFS SLC 40, CCSFS SLC 40, CCSFS SLC 40, CCSFS SLC 40, CCSFS SLC 40, CCSFS SLC 40, KSC LC 39A, KSC LC 39A, KSC LC 39A, CCSFS SLC 40, CCSFS SLC 40]</td>\n",
       "      <td>[None None, None None, None None, None None, None None, None None, None None, False Ocean, None None, None None, True Ocean, True Ocean, None None, None None, False Ocean, False ASDS, True Ocean, False ASDS, None None, None ASDS, True RTLS, False ASDS, False ASDS, True ASDS, True ASDS, True ASDS, True RTLS, True ASDS, None ASDS, True ASDS, True RTLS, None None, True ASDS, True RTLS, None None, True RTLS, True ASDS, True ASDS, None None, True RTLS, True ASDS, True RTLS, True ASDS, True ASDS, True ASDS, True RTLS, True Ocean, True RTLS, True Ocean, None None, None None, None None, True ASDS, True ASDS, None None, None None, True ASDS, True ASDS, True ASDS, True ASDS, True RTLS, True ASDS, True ASDS, False RTLS, None None, True ASDS, True ASDS, True ASDS, True ASDS, True RTLS, True RTLS, None None, True ASDS, True ASDS, True ASDS, True ASDS, None None, True ASDS, False ASDS, True RTLS, False ASDS, True ASDS, True ASDS, True ASDS, True ASDS, True ASDS, True ASDS, True ASDS, True RTLS, True ASDS, True ASDS, True ASDS, True ASDS, True ASDS]</td>\n",
       "      <td>[1, 1, 1, 1, 1, 1, 1, 1, 1, 1, 1, 1, 1, 1, 1, 1, 1, 1, 1, 1, 1, 1, 1, 1, 1, 1, 1, 1, 1, 1, 1, 1, 2, 1, 1, 1, 2, 1, 1, 1, 1, 1, 1, 2, 1, 2, 2, 1, 2, 1, 2, 2, 1, 1, 2, 2, 1, 1, 2, 1, 2, 2, 3, 1, 1, 2, 1, 1, 3, 2, 2, 3, 4, 1, 3, 4, 4, 3, 4, 2, 5, 4, 1, 5, 3, 1, 2, 6, 4, 2, 3, 6, 3, 1]</td>\n",
       "      <td>[False, False, False, False, False, False, False, False, False, False, False, False, False, False, False, True, True, True, False, True, True, True, True, True, True, True, True, True, True, True, True, False, True, True, False, True, True, True, False, True, True, True, True, True, True, True, True, True, True, True, True, True, True, True, False, False, True, True, True, True, True, True, True, True, False, True, True, True, True, True, True, False, True, True, True, True, False, True, True, True, True, True, True, True, True, True, True, True, True, True, True, True, True, True]</td>\n",
       "      <td>[False, False, False, False, False, False, False, False, False, False, False, False, False, False, False, False, False, False, False, False, False, False, False, False, False, False, False, False, False, False, False, False, True, False, False, False, True, False, False, False, False, False, False, True, False, True, True, False, True, False, True, True, False, False, True, True, False, False, True, False, True, True, True, False, False, True, False, False, True, True, True, True, True, False, True, True, True, True, True, True, True, True, False, True, True, False, True, True, True, True, True, True, True, False]</td>\n",
       "      <td>[False, False, False, False, False, False, False, False, False, False, True, True, False, False, False, True, True, True, False, True, True, True, True, True, True, True, True, True, True, True, True, False, True, True, False, True, True, True, False, True, True, True, True, True, True, True, False, True, True, True, True, True, True, True, False, False, True, True, True, True, True, True, True, True, False, True, True, True, True, True, True, False, True, True, True, True, False, True, True, True, True, True, True, True, True, True, True, True, True, True, True, True, True, True]</td>\n",
       "      <td>[None, None, None, None, None, None, None, None, None, None, None, None, None, None, None, 5e9e3032383ecb761634e7cb, None, 5e9e3032383ecb761634e7cb, None, 5e9e3032383ecb6bb234e7ca, 5e9e3032383ecb267a34e7c7, 5e9e3033383ecbb9e534e7cc, 5e9e3032383ecb6bb234e7ca, 5e9e3032383ecb6bb234e7ca, 5e9e3032383ecb6bb234e7ca, 5e9e3032383ecb6bb234e7ca, 5e9e3032383ecb267a34e7c7, 5e9e3032383ecb6bb234e7ca, 5e9e3032383ecb6bb234e7ca, 5e9e3033383ecbb9e534e7cc, 5e9e3032383ecb267a34e7c7, None, 5e9e3032383ecb6bb234e7ca, 5e9e3032383ecb267a34e7c7, None, 5e9e3032383ecb267a34e7c7, 5e9e3032383ecb6bb234e7ca, 5e9e3033383ecbb9e534e7cc, None, 5e9e3032383ecb267a34e7c7, 5e9e3033383ecbb9e534e7cc, 5e9e3032383ecb267a34e7c7, 5e9e3033383ecbb9e534e7cc, 5e9e3032383ecb6bb234e7ca, 5e9e3032383ecb6bb234e7ca, 5e9e3032383ecb267a34e7c7, None, 5e9e3032383ecb267a34e7c7, None, None, None, None, 5e9e3032383ecb6bb234e7ca, 5e9e3032383ecb6bb234e7ca, None, None, 5e9e3032383ecb6bb234e7ca, 5e9e3033383ecbb9e534e7cc, 5e9e3032383ecb6bb234e7ca, 5e9e3032383ecb6bb234e7ca, 5e9e3032383ecb554034e7c9, 5e9e3032383ecb6bb234e7ca, 5e9e3033383ecbb9e534e7cc, 5e9e3032383ecb267a34e7c7, None, 5e9e3033383ecbb9e534e7cc, 5e9e3032383ecb6bb234e7ca, 5e9e3032383ecb6bb234e7ca, 5e9e3032383ecb6bb234e7ca, 5e9e3032383ecb554034e7c9, 5e9e3032383ecb267a34e7c7, None, 5e9e3032383ecb6bb234e7ca, 5e9e3032383ecb6bb234e7ca, 5e9e3032383ecb6bb234e7ca, 5e9e3032383ecb6bb234e7ca, None, 5e9e3032383ecb6bb234e7ca, 5e9e3032383ecb6bb234e7ca, 5e9e3032383ecb267a34e7c7, 5e9e3032383ecb6bb234e7ca, 5e9e3032383ecb6bb234e7ca, 5e9e3032383ecb6bb234e7ca, 5e9e3033383ecbb9e534e7cc, 5e9e3032383ecb6bb234e7ca, 5e9e3033383ecbb9e534e7cc, 5e9e3033383ecbb9e534e7cc, 5e9e3032383ecb6bb234e7ca, 5e9e3032383ecb267a34e7c7, 5e9e3032383ecb6bb234e7ca, 5e9e3032383ecb6bb234e7ca, 5e9e3032383ecb6bb234e7ca, 5e9e3033383ecbb9e534e7cc, 5e9e3032383ecb6bb234e7ca]</td>\n",
       "      <td>[None, None, None, None, 1, 1, 1, 1, 1, 1, 1, 1, 1, 1, 1, 1, 1, 1, 1, 1, 1, 1, 1, 2, 2, 2, 2, 2, 3, 3, 3, 3, 2, 3, 3, 3, 3, 3, 3, 4, 3, 4, 4, 3, 4, 3, 3, 4, 3, 4, 4, 4, 4, 5, 4, 4, 5, 5, 5, 5, 5, 5, 5, 5, 5, 5, 5, 5, 5, 5, 5, 5, 5, 5, 5, 5, 5, 5, 5, 5, 5, 5, 5, 5, 5, 5, 5, 5, 5, 5, 5, 5, 5, 5]</td>\n",
       "      <td>[0, 0, 0, 0, 0, 0, 0, 0, 0, 0, 0, 0, 0, 0, 0, 0, 0, 0, 0, 0, 0, 0, 0, 1, 0, 1, 1, 0, 0, 1, 1, 0, 1, 1, 0, 1, 1, 1, 0, 1, 1, 1, 1, 1, 0, 1, 1, 1, 1, 0, 1, 1, 1, 3, 1, 1, 2, 4, 3, 9, 4, 2, 3, 0, 0, 9, 12, 3, 9, 12, 3, 2, 4, 5, 3, 9, 3, 12, 3, 5, 4, 12, 13, 9, 5, 12, 13, 9, 5, 12, 13, 12, 12, 8]</td>\n",
       "      <td>[Merlin1A, Merlin2A, Merlin2C, Merlin3C, B0003, B0005, B0007, B1003, B1004, B1005, B1006, B1007, B1008, B1011, B1010, B1012, B1013, B1015, B1016, B1018, B1019, B1017, B1020, B1021, B1022, B1023, B1025, B1026, B1028, B1029, B1031, B1030, B1021, B1032, B1034, B1035, B1029, B1036, B1037, B1039, B1038, B1040, B1041, B1031, B1042, B1035, B1036, B1043, B1032, B1044, B1041, B1039, B1045, B1046, B1040, B1045, B1047, B1048, B1046, B1049, B1048, B1047, B1046, B1050, B1054, B1049, B1051, B1056, B1049, B1051, B1056, B1047, B1048, B1059, B1056, B1049, B1046, B1051, B1056, B1059, B1048, B1051, B1058, B1049, B1059, B1060, B1058, B1049, B1059, B1060, B1058, B1051, B1060, B1062]</td>\n",
       "      <td>[167.7431292, 167.7431292, 167.7431292, 167.7431292, -80.577366, -80.577366, -80.577366, -120.610829, -80.577366, -80.577366, -80.577366, -80.577366, -80.577366, -80.577366, -80.577366, -80.577366, -80.577366, -80.577366, -80.577366, -80.577366, -80.577366, -120.610829, -80.577366, -80.577366, -80.577366, -80.577366, -80.577366, -80.577366, -80.577366, -120.610829, -80.6039558, -80.6039558, -80.6039558, -80.6039558, -80.6039558, -80.6039558, -80.6039558, -120.610829, -80.6039558, -80.6039558, -120.610829, -80.6039558, -120.610829, -80.6039558, -80.6039558, -80.577366, -120.610829, -80.577366, -80.577366, -80.577366, -120.610829, -80.577366, -80.577366, -80.6039558, -80.577366, -80.577366, -80.577366, -120.610829, -80.577366, -80.577366, -120.610829, -80.6039558, -120.610829, -80.577366, -80.577366, -120.610829, -80.6039558, -80.577366, -80.577366, -120.610829, -80.577366, -80.577366, -80.577366, -80.577366, -80.577366, -80.577366, -80.6039558, -80.577366, -80.577366, -80.577366, -80.6039558, -80.6039558, -80.6039558, -80.577366, -80.577366, -80.577366, -80.577366, -80.577366, -80.577366, -80.6039558, -80.6039558, -80.6039558, -80.577366, -80.577366]</td>\n",
       "      <td>[9.0477206, 9.0477206, 9.0477206, 9.0477206, 28.5618571, 28.5618571, 28.5618571, 34.632093, 28.5618571, 28.5618571, 28.5618571, 28.5618571, 28.5618571, 28.5618571, 28.5618571, 28.5618571, 28.5618571, 28.5618571, 28.5618571, 28.5618571, 28.5618571, 34.632093, 28.5618571, 28.5618571, 28.5618571, 28.5618571, 28.5618571, 28.5618571, 28.5618571, 34.632093, 28.6080585, 28.6080585, 28.6080585, 28.6080585, 28.6080585, 28.6080585, 28.6080585, 34.632093, 28.6080585, 28.6080585, 34.632093, 28.6080585, 34.632093, 28.6080585, 28.6080585, 28.5618571, 34.632093, 28.5618571, 28.5618571, 28.5618571, 34.632093, 28.5618571, 28.5618571, 28.6080585, 28.5618571, 28.5618571, 28.5618571, 34.632093, 28.5618571, 28.5618571, 34.632093, 28.6080585, 34.632093, 28.5618571, 28.5618571, 34.632093, 28.6080585, 28.5618571, 28.5618571, 34.632093, 28.5618571, 28.5618571, 28.5618571, 28.5618571, 28.5618571, 28.5618571, 28.6080585, 28.5618571, 28.5618571, 28.5618571, 28.6080585, 28.6080585, 28.6080585, 28.5618571, 28.5618571, 28.5618571, 28.5618571, 28.5618571, 28.5618571, 28.6080585, 28.6080585, 28.6080585, 28.5618571, 28.5618571]</td>\n",
       "    </tr>\n",
       "  </tbody>\n",
       "</table>\n",
       "</div>"
      ],
      "text/plain": [
       "                                                                                                                                                                                                                                                                                                                                                                                FlightNumber  \\\n",
       "0  [1, 2, 4, 5, 6, 8, 10, 11, 12, 13, 14, 15, 16, 17, 18, 19, 20, 22, 23, 24, 25, 26, 27, 28, 29, 30, 32, 33, 34, 35, 36, 37, 38, 39, 40, 41, 42, 43, 44, 45, 46, 47, 48, 49, 50, 51, 52, 53, 54, 57, 58, 59, 60, 61, 63, 64, 65, 66, 67, 68, 69, 70, 71, 72, 73, 74, 76, 78, 79, 80, 82, 83, 84, 85, 86, 87, 88, 89, 90, 91, 92, 93, 94, 95, 96, 97, 98, 100, 101, 102, 103, 104, 105, 106]   \n",
       "\n",
       "                                                                                                                                                                                                                                                                                                                                                                                                                                                                                                                                                                                                                                                                                                                                                                                                                                                                                                                                                                                                                                                                                                                                                                       Date  \\\n",
       "0  [2006-03-24, 2007-03-21, 2008-09-28, 2009-07-13, 2010-06-04, 2012-05-22, 2013-03-01, 2013-09-29, 2013-12-03, 2014-01-06, 2014-04-18, 2014-07-14, 2014-08-05, 2014-09-07, 2014-09-21, 2015-01-10, 2015-02-11, 2015-04-14, 2015-04-27, 2015-06-28, 2015-12-22, 2016-01-17, 2016-03-04, 2016-04-08, 2016-05-06, 2016-05-27, 2016-07-18, 2016-08-14, 2016-09-01, 2017-01-14, 2017-02-19, 2017-03-16, 2017-03-30, 2017-05-01, 2017-05-15, 2017-06-03, 2017-06-23, 2017-06-25, 2017-07-05, 2017-08-14, 2017-08-24, 2017-09-07, 2017-10-09, 2017-10-11, 2017-10-30, 2017-12-15, 2017-12-23, 2018-01-08, 2018-01-31, 2018-03-06, 2018-03-30, 2018-04-02, 2018-04-18, 2018-05-11, 2018-06-04, 2018-06-29, 2018-07-22, 2018-07-25, 2018-08-07, 2018-09-10, 2018-10-08, 2018-11-15, 2018-12-03, 2018-12-05, 2018-12-23, 2019-01-11, 2019-03-02, 2019-05-04, 2019-05-24, 2019-06-12, 2019-07-25, 2019-08-06, 2019-11-11, 2019-12-05, 2019-12-17, 2020-01-07, 2020-01-19, 2020-01-29, 2020-02-17, 2020-03-07, 2020-03-18, 2020-04-22, 2020-05-30, 2020-06-04, 2020-06-13, 2020-06-30, 2020-07-20, 2020-08-18, 2020-08-30, 2020-09-03, 2020-10-06, 2020-10-18, 2020-10-24, 2020-11-05]   \n",
       "\n",
       "                                                                                                                                                                                                                                                                                                                                                                                                                                                                                                                                                                                                                                                                                                                                                                                                                                                                                                                                                                 BoosterVersion  \\\n",
       "0  [Falcon 1, Falcon 1, Falcon 1, Falcon 1, Falcon 9, Falcon 9, Falcon 9, Falcon 9, Falcon 9, Falcon 9, Falcon 9, Falcon 9, Falcon 9, Falcon 9, Falcon 9, Falcon 9, Falcon 9, Falcon 9, Falcon 9, Falcon 9, Falcon 9, Falcon 9, Falcon 9, Falcon 9, Falcon 9, Falcon 9, Falcon 9, Falcon 9, Falcon 9, Falcon 9, Falcon 9, Falcon 9, Falcon 9, Falcon 9, Falcon 9, Falcon 9, Falcon 9, Falcon 9, Falcon 9, Falcon 9, Falcon 9, Falcon 9, Falcon 9, Falcon 9, Falcon 9, Falcon 9, Falcon 9, Falcon 9, Falcon 9, Falcon 9, Falcon 9, Falcon 9, Falcon 9, Falcon 9, Falcon 9, Falcon 9, Falcon 9, Falcon 9, Falcon 9, Falcon 9, Falcon 9, Falcon 9, Falcon 9, Falcon 9, Falcon 9, Falcon 9, Falcon 9, Falcon 9, Falcon 9, Falcon 9, Falcon 9, Falcon 9, Falcon 9, Falcon 9, Falcon 9, Falcon 9, Falcon 9, Falcon 9, Falcon 9, Falcon 9, Falcon 9, Falcon 9, Falcon 9, Falcon 9, Falcon 9, Falcon 9, Falcon 9, Falcon 9, Falcon 9, Falcon 9, Falcon 9, Falcon 9, Falcon 9, Falcon 9]   \n",
       "\n",
       "                                                                                                                                                                                                                                                                                                                                                                                                                                                                                                                                                                                     PayloadMass  \\\n",
       "0  [20, None, 165, 200, None, 525, 677, 500, 3170, 3325, 2296, 1316, 4535, 4428, 2216, 2395, 570, 1898, 4707, 2477, 2034, 553, 5271, 3136, 4696, 3100, 2257, 4600, 5500, 9600, 2490, 5600, 5300, None, 6070, 2708, 3669, 9600, 6761, 2910, 475, 4990, 9600, 5200, 3700, 2205, 9600, None, 4230, 6092, 9600, 2760, 350, 3750, 5383.85, 2410, 7076, 9600, 5800, 7060, 2800, 3000, 4000, 2573, 4400, 9600, 12259, 2482, 13200, 1425, 2227.7, 6500, 15600, 5000, 6800, 15600, None, 15600, 15600, 1977, 15600, 15600, 9525, 15600, 15600, 3880, None, 15600, 1600, 15600, 15600, 15600, 15600, 3681]   \n",
       "\n",
       "                                                                                                                                                                                                                                                                                                                                                                                                                                                                                          Orbit  \\\n",
       "0  [LEO, LEO, LEO, LEO, LEO, LEO, ISS, PO, GTO, GTO, ISS, LEO, GTO, GTO, ISS, ISS, ES-L1, ISS, GTO, ISS, LEO, PO, GTO, ISS, GTO, GTO, ISS, GTO, GTO, PO, ISS, GTO, GTO, LEO, GTO, ISS, GTO, PO, GTO, ISS, SSO, LEO, PO, GTO, GTO, ISS, PO, LEO, GTO, GTO, PO, ISS, HEO, GTO, GTO, ISS, GTO, PO, GTO, GTO, SSO, GTO, SSO, ISS, MEO, PO, ISS, ISS, VLEO, SSO, ISS, GTO, VLEO, ISS, GTO, VLEO, SO, VLEO, VLEO, ISS, VLEO, VLEO, ISS, VLEO, VLEO, MEO, GEO, VLEO, SSO, VLEO, VLEO, VLEO, VLEO, MEO]   \n",
       "\n",
       "                                                                                                                                                                                                                                                                                                                                                                                                                                                                                                                                                                                                                                                                                                                                                                                                                                                                                                                                                                                                                                                                                                                                                                                                                                                                                                                LaunchSite  \\\n",
       "0  [Kwajalein Atoll, Kwajalein Atoll, Kwajalein Atoll, Kwajalein Atoll, CCSFS SLC 40, CCSFS SLC 40, CCSFS SLC 40, VAFB SLC 4E, CCSFS SLC 40, CCSFS SLC 40, CCSFS SLC 40, CCSFS SLC 40, CCSFS SLC 40, CCSFS SLC 40, CCSFS SLC 40, CCSFS SLC 40, CCSFS SLC 40, CCSFS SLC 40, CCSFS SLC 40, CCSFS SLC 40, CCSFS SLC 40, VAFB SLC 4E, CCSFS SLC 40, CCSFS SLC 40, CCSFS SLC 40, CCSFS SLC 40, CCSFS SLC 40, CCSFS SLC 40, CCSFS SLC 40, VAFB SLC 4E, KSC LC 39A, KSC LC 39A, KSC LC 39A, KSC LC 39A, KSC LC 39A, KSC LC 39A, KSC LC 39A, VAFB SLC 4E, KSC LC 39A, KSC LC 39A, VAFB SLC 4E, KSC LC 39A, VAFB SLC 4E, KSC LC 39A, KSC LC 39A, CCSFS SLC 40, VAFB SLC 4E, CCSFS SLC 40, CCSFS SLC 40, CCSFS SLC 40, VAFB SLC 4E, CCSFS SLC 40, CCSFS SLC 40, KSC LC 39A, CCSFS SLC 40, CCSFS SLC 40, CCSFS SLC 40, VAFB SLC 4E, CCSFS SLC 40, CCSFS SLC 40, VAFB SLC 4E, KSC LC 39A, VAFB SLC 4E, CCSFS SLC 40, CCSFS SLC 40, VAFB SLC 4E, KSC LC 39A, CCSFS SLC 40, CCSFS SLC 40, VAFB SLC 4E, CCSFS SLC 40, CCSFS SLC 40, CCSFS SLC 40, CCSFS SLC 40, CCSFS SLC 40, CCSFS SLC 40, KSC LC 39A, CCSFS SLC 40, CCSFS SLC 40, CCSFS SLC 40, KSC LC 39A, KSC LC 39A, KSC LC 39A, CCSFS SLC 40, CCSFS SLC 40, CCSFS SLC 40, CCSFS SLC 40, CCSFS SLC 40, CCSFS SLC 40, KSC LC 39A, KSC LC 39A, KSC LC 39A, CCSFS SLC 40, CCSFS SLC 40]   \n",
       "\n",
       "                                                                                                                                                                                                                                                                                                                                                                                                                                                                                                                                                                                                                                                                                                                                                                                                                                                                                                                                                                                                                                                                                      Outcome  \\\n",
       "0  [None None, None None, None None, None None, None None, None None, None None, False Ocean, None None, None None, True Ocean, True Ocean, None None, None None, False Ocean, False ASDS, True Ocean, False ASDS, None None, None ASDS, True RTLS, False ASDS, False ASDS, True ASDS, True ASDS, True ASDS, True RTLS, True ASDS, None ASDS, True ASDS, True RTLS, None None, True ASDS, True RTLS, None None, True RTLS, True ASDS, True ASDS, None None, True RTLS, True ASDS, True RTLS, True ASDS, True ASDS, True ASDS, True RTLS, True Ocean, True RTLS, True Ocean, None None, None None, None None, True ASDS, True ASDS, None None, None None, True ASDS, True ASDS, True ASDS, True ASDS, True RTLS, True ASDS, True ASDS, False RTLS, None None, True ASDS, True ASDS, True ASDS, True ASDS, True RTLS, True RTLS, None None, True ASDS, True ASDS, True ASDS, True ASDS, None None, True ASDS, False ASDS, True RTLS, False ASDS, True ASDS, True ASDS, True ASDS, True ASDS, True ASDS, True ASDS, True ASDS, True RTLS, True ASDS, True ASDS, True ASDS, True ASDS, True ASDS]   \n",
       "\n",
       "                                                                                                                                                                                                                                                                                      Flights  \\\n",
       "0  [1, 1, 1, 1, 1, 1, 1, 1, 1, 1, 1, 1, 1, 1, 1, 1, 1, 1, 1, 1, 1, 1, 1, 1, 1, 1, 1, 1, 1, 1, 1, 1, 2, 1, 1, 1, 2, 1, 1, 1, 1, 1, 1, 2, 1, 2, 2, 1, 2, 1, 2, 2, 1, 1, 2, 2, 1, 1, 2, 1, 2, 2, 3, 1, 1, 2, 1, 1, 3, 2, 2, 3, 4, 1, 3, 4, 4, 3, 4, 2, 5, 4, 1, 5, 3, 1, 2, 6, 4, 2, 3, 6, 3, 1]   \n",
       "\n",
       "                                                                                                                                                                                                                                                                                                                                                                                                                                                                                                                                                                                                       GridFins  \\\n",
       "0  [False, False, False, False, False, False, False, False, False, False, False, False, False, False, False, True, True, True, False, True, True, True, True, True, True, True, True, True, True, True, True, False, True, True, False, True, True, True, False, True, True, True, True, True, True, True, True, True, True, True, True, True, True, True, False, False, True, True, True, True, True, True, True, True, False, True, True, True, True, True, True, False, True, True, True, True, False, True, True, True, True, True, True, True, True, True, True, True, True, True, True, True, True, True]   \n",
       "\n",
       "                                                                                                                                                                                                                                                                                                                                                                                                                                                                                                                                                                                                                                          Reused  \\\n",
       "0  [False, False, False, False, False, False, False, False, False, False, False, False, False, False, False, False, False, False, False, False, False, False, False, False, False, False, False, False, False, False, False, False, True, False, False, False, True, False, False, False, False, False, False, True, False, True, True, False, True, False, True, True, False, False, True, True, False, False, True, False, True, True, True, False, False, True, False, False, True, True, True, True, True, False, True, True, True, True, True, True, True, True, False, True, True, False, True, True, True, True, True, True, True, False]   \n",
       "\n",
       "                                                                                                                                                                                                                                                                                                                                                                                                                                                                                                                                                                                                          Legs  \\\n",
       "0  [False, False, False, False, False, False, False, False, False, False, True, True, False, False, False, True, True, True, False, True, True, True, True, True, True, True, True, True, True, True, True, False, True, True, False, True, True, True, False, True, True, True, True, True, True, True, False, True, True, True, True, True, True, True, False, False, True, True, True, True, True, True, True, True, False, True, True, True, True, True, True, False, True, True, True, True, False, True, True, True, True, True, True, True, True, True, True, True, True, True, True, True, True, True]   \n",
       "\n",
       "                                                                                                                                                                                                                                                                                                                                                                                                                                                                                                                                                                                                                                                                                                                                                                                                                                                                                                                                                                                                                                                                                                                                                                                                                                                                                                                                                                                                                                                                                                                                                                                                                                                                                                                                                                                                                                                                                                             LandingPad  \\\n",
       "0  [None, None, None, None, None, None, None, None, None, None, None, None, None, None, None, 5e9e3032383ecb761634e7cb, None, 5e9e3032383ecb761634e7cb, None, 5e9e3032383ecb6bb234e7ca, 5e9e3032383ecb267a34e7c7, 5e9e3033383ecbb9e534e7cc, 5e9e3032383ecb6bb234e7ca, 5e9e3032383ecb6bb234e7ca, 5e9e3032383ecb6bb234e7ca, 5e9e3032383ecb6bb234e7ca, 5e9e3032383ecb267a34e7c7, 5e9e3032383ecb6bb234e7ca, 5e9e3032383ecb6bb234e7ca, 5e9e3033383ecbb9e534e7cc, 5e9e3032383ecb267a34e7c7, None, 5e9e3032383ecb6bb234e7ca, 5e9e3032383ecb267a34e7c7, None, 5e9e3032383ecb267a34e7c7, 5e9e3032383ecb6bb234e7ca, 5e9e3033383ecbb9e534e7cc, None, 5e9e3032383ecb267a34e7c7, 5e9e3033383ecbb9e534e7cc, 5e9e3032383ecb267a34e7c7, 5e9e3033383ecbb9e534e7cc, 5e9e3032383ecb6bb234e7ca, 5e9e3032383ecb6bb234e7ca, 5e9e3032383ecb267a34e7c7, None, 5e9e3032383ecb267a34e7c7, None, None, None, None, 5e9e3032383ecb6bb234e7ca, 5e9e3032383ecb6bb234e7ca, None, None, 5e9e3032383ecb6bb234e7ca, 5e9e3033383ecbb9e534e7cc, 5e9e3032383ecb6bb234e7ca, 5e9e3032383ecb6bb234e7ca, 5e9e3032383ecb554034e7c9, 5e9e3032383ecb6bb234e7ca, 5e9e3033383ecbb9e534e7cc, 5e9e3032383ecb267a34e7c7, None, 5e9e3033383ecbb9e534e7cc, 5e9e3032383ecb6bb234e7ca, 5e9e3032383ecb6bb234e7ca, 5e9e3032383ecb6bb234e7ca, 5e9e3032383ecb554034e7c9, 5e9e3032383ecb267a34e7c7, None, 5e9e3032383ecb6bb234e7ca, 5e9e3032383ecb6bb234e7ca, 5e9e3032383ecb6bb234e7ca, 5e9e3032383ecb6bb234e7ca, None, 5e9e3032383ecb6bb234e7ca, 5e9e3032383ecb6bb234e7ca, 5e9e3032383ecb267a34e7c7, 5e9e3032383ecb6bb234e7ca, 5e9e3032383ecb6bb234e7ca, 5e9e3032383ecb6bb234e7ca, 5e9e3033383ecbb9e534e7cc, 5e9e3032383ecb6bb234e7ca, 5e9e3033383ecbb9e534e7cc, 5e9e3033383ecbb9e534e7cc, 5e9e3032383ecb6bb234e7ca, 5e9e3032383ecb267a34e7c7, 5e9e3032383ecb6bb234e7ca, 5e9e3032383ecb6bb234e7ca, 5e9e3032383ecb6bb234e7ca, 5e9e3033383ecbb9e534e7cc, 5e9e3032383ecb6bb234e7ca]   \n",
       "\n",
       "                                                                                                                                                                                                                                                                                                    Block  \\\n",
       "0  [None, None, None, None, 1, 1, 1, 1, 1, 1, 1, 1, 1, 1, 1, 1, 1, 1, 1, 1, 1, 1, 1, 2, 2, 2, 2, 2, 3, 3, 3, 3, 2, 3, 3, 3, 3, 3, 3, 4, 3, 4, 4, 3, 4, 3, 3, 4, 3, 4, 4, 4, 4, 5, 4, 4, 5, 5, 5, 5, 5, 5, 5, 5, 5, 5, 5, 5, 5, 5, 5, 5, 5, 5, 5, 5, 5, 5, 5, 5, 5, 5, 5, 5, 5, 5, 5, 5, 5, 5, 5, 5, 5, 5]   \n",
       "\n",
       "                                                                                                                                                                                                                                                                                             ReusedCount  \\\n",
       "0  [0, 0, 0, 0, 0, 0, 0, 0, 0, 0, 0, 0, 0, 0, 0, 0, 0, 0, 0, 0, 0, 0, 0, 1, 0, 1, 1, 0, 0, 1, 1, 0, 1, 1, 0, 1, 1, 1, 0, 1, 1, 1, 1, 1, 0, 1, 1, 1, 1, 0, 1, 1, 1, 3, 1, 1, 2, 4, 3, 9, 4, 2, 3, 0, 0, 9, 12, 3, 9, 12, 3, 2, 4, 5, 3, 9, 3, 12, 3, 5, 4, 12, 13, 9, 5, 12, 13, 9, 5, 12, 13, 12, 12, 8]   \n",
       "\n",
       "                                                                                                                                                                                                                                                                                                                                                                                                                                                                                                                                                                                                                                                                                           Serial  \\\n",
       "0  [Merlin1A, Merlin2A, Merlin2C, Merlin3C, B0003, B0005, B0007, B1003, B1004, B1005, B1006, B1007, B1008, B1011, B1010, B1012, B1013, B1015, B1016, B1018, B1019, B1017, B1020, B1021, B1022, B1023, B1025, B1026, B1028, B1029, B1031, B1030, B1021, B1032, B1034, B1035, B1029, B1036, B1037, B1039, B1038, B1040, B1041, B1031, B1042, B1035, B1036, B1043, B1032, B1044, B1041, B1039, B1045, B1046, B1040, B1045, B1047, B1048, B1046, B1049, B1048, B1047, B1046, B1050, B1054, B1049, B1051, B1056, B1049, B1051, B1056, B1047, B1048, B1059, B1056, B1049, B1046, B1051, B1056, B1059, B1048, B1051, B1058, B1049, B1059, B1060, B1058, B1049, B1059, B1060, B1058, B1051, B1060, B1062]   \n",
       "\n",
       "                                                                                                                                                                                                                                                                                                                                                                                                                                                                                                                                                                                                                                                                                                                                                                                                                                                                                                                                                                                                                                                                                                                                                                                                         Longitude  \\\n",
       "0  [167.7431292, 167.7431292, 167.7431292, 167.7431292, -80.577366, -80.577366, -80.577366, -120.610829, -80.577366, -80.577366, -80.577366, -80.577366, -80.577366, -80.577366, -80.577366, -80.577366, -80.577366, -80.577366, -80.577366, -80.577366, -80.577366, -120.610829, -80.577366, -80.577366, -80.577366, -80.577366, -80.577366, -80.577366, -80.577366, -120.610829, -80.6039558, -80.6039558, -80.6039558, -80.6039558, -80.6039558, -80.6039558, -80.6039558, -120.610829, -80.6039558, -80.6039558, -120.610829, -80.6039558, -120.610829, -80.6039558, -80.6039558, -80.577366, -120.610829, -80.577366, -80.577366, -80.577366, -120.610829, -80.577366, -80.577366, -80.6039558, -80.577366, -80.577366, -80.577366, -120.610829, -80.577366, -80.577366, -120.610829, -80.6039558, -120.610829, -80.577366, -80.577366, -120.610829, -80.6039558, -80.577366, -80.577366, -120.610829, -80.577366, -80.577366, -80.577366, -80.577366, -80.577366, -80.577366, -80.6039558, -80.577366, -80.577366, -80.577366, -80.6039558, -80.6039558, -80.6039558, -80.577366, -80.577366, -80.577366, -80.577366, -80.577366, -80.577366, -80.6039558, -80.6039558, -80.6039558, -80.577366, -80.577366]   \n",
       "\n",
       "                                                                                                                                                                                                                                                                                                                                                                                                                                                                                                                                                                                                                                                                                                                                                                                                                                                                                                                                                                                                                                                                                                                                                  Latitude  \n",
       "0  [9.0477206, 9.0477206, 9.0477206, 9.0477206, 28.5618571, 28.5618571, 28.5618571, 34.632093, 28.5618571, 28.5618571, 28.5618571, 28.5618571, 28.5618571, 28.5618571, 28.5618571, 28.5618571, 28.5618571, 28.5618571, 28.5618571, 28.5618571, 28.5618571, 34.632093, 28.5618571, 28.5618571, 28.5618571, 28.5618571, 28.5618571, 28.5618571, 28.5618571, 34.632093, 28.6080585, 28.6080585, 28.6080585, 28.6080585, 28.6080585, 28.6080585, 28.6080585, 34.632093, 28.6080585, 28.6080585, 34.632093, 28.6080585, 34.632093, 28.6080585, 28.6080585, 28.5618571, 34.632093, 28.5618571, 28.5618571, 28.5618571, 34.632093, 28.5618571, 28.5618571, 28.6080585, 28.5618571, 28.5618571, 28.5618571, 34.632093, 28.5618571, 28.5618571, 34.632093, 28.6080585, 34.632093, 28.5618571, 28.5618571, 34.632093, 28.6080585, 28.5618571, 28.5618571, 34.632093, 28.5618571, 28.5618571, 28.5618571, 28.5618571, 28.5618571, 28.5618571, 28.6080585, 28.5618571, 28.5618571, 28.5618571, 28.6080585, 28.6080585, 28.6080585, 28.5618571, 28.5618571, 28.5618571, 28.5618571, 28.5618571, 28.5618571, 28.6080585, 28.6080585, 28.6080585, 28.5618571, 28.5618571]  "
      ]
     },
     "execution_count": 28,
     "metadata": {},
     "output_type": "execute_result"
    }
   ],
   "source": [
    "# Show the head of the dataframe\n",
    "launch_df.head(3)"
   ]
  },
  {
   "cell_type": "markdown",
   "metadata": {},
   "source": [
    "### Task 2: Filter the dataframe to only include `Falcon 9` launches\n"
   ]
  },
  {
   "cell_type": "markdown",
   "metadata": {},
   "source": [
    "Finally we will remove the Falcon 1 launches keeping only the Falcon 9 launches. Filter the data dataframe using the <code>BoosterVersion</code> column to only keep the Falcon 9 launches. Save the filtered data to a new dataframe called <code>data_falcon9</code>.\n"
   ]
  },
  {
   "cell_type": "code",
   "execution_count": 29,
   "metadata": {
    "tags": []
   },
   "outputs": [],
   "source": [
    "# Hint data['BoosterVersion']!='Falcon 1'\n",
    "data_falcon9 = launch_df[launch_df['BoosterVersion'] != 'Falcon 1']"
   ]
  },
  {
   "cell_type": "markdown",
   "metadata": {},
   "source": [
    "Now that we have removed some values we should reset the FlgihtNumber column\n"
   ]
  },
  {
   "cell_type": "code",
   "execution_count": 30,
   "metadata": {
    "tags": []
   },
   "outputs": [
    {
     "data": {
      "text/html": [
       "<div>\n",
       "<style scoped>\n",
       "    .dataframe tbody tr th:only-of-type {\n",
       "        vertical-align: middle;\n",
       "    }\n",
       "\n",
       "    .dataframe tbody tr th {\n",
       "        vertical-align: top;\n",
       "    }\n",
       "\n",
       "    .dataframe thead th {\n",
       "        text-align: right;\n",
       "    }\n",
       "</style>\n",
       "<table border=\"1\" class=\"dataframe\">\n",
       "  <thead>\n",
       "    <tr style=\"text-align: right;\">\n",
       "      <th></th>\n",
       "      <th>FlightNumber</th>\n",
       "      <th>Date</th>\n",
       "      <th>BoosterVersion</th>\n",
       "      <th>PayloadMass</th>\n",
       "      <th>Orbit</th>\n",
       "      <th>LaunchSite</th>\n",
       "      <th>Outcome</th>\n",
       "      <th>Flights</th>\n",
       "      <th>GridFins</th>\n",
       "      <th>Reused</th>\n",
       "      <th>Legs</th>\n",
       "      <th>LandingPad</th>\n",
       "      <th>Block</th>\n",
       "      <th>ReusedCount</th>\n",
       "      <th>Serial</th>\n",
       "      <th>Longitude</th>\n",
       "      <th>Latitude</th>\n",
       "    </tr>\n",
       "  </thead>\n",
       "  <tbody>\n",
       "    <tr>\n",
       "      <th>0</th>\n",
       "      <td>1</td>\n",
       "      <td>[2006-03-24, 2007-03-21, 2008-09-28, 2009-07-13, 2010-06-04, 2012-05-22, 2013-03-01, 2013-09-29, 2013-12-03, 2014-01-06, 2014-04-18, 2014-07-14, 2014-08-05, 2014-09-07, 2014-09-21, 2015-01-10, 2015-02-11, 2015-04-14, 2015-04-27, 2015-06-28, 2015-12-22, 2016-01-17, 2016-03-04, 2016-04-08, 2016-05-06, 2016-05-27, 2016-07-18, 2016-08-14, 2016-09-01, 2017-01-14, 2017-02-19, 2017-03-16, 2017-03-30, 2017-05-01, 2017-05-15, 2017-06-03, 2017-06-23, 2017-06-25, 2017-07-05, 2017-08-14, 2017-08-24, 2017-09-07, 2017-10-09, 2017-10-11, 2017-10-30, 2017-12-15, 2017-12-23, 2018-01-08, 2018-01-31, 2018-03-06, 2018-03-30, 2018-04-02, 2018-04-18, 2018-05-11, 2018-06-04, 2018-06-29, 2018-07-22, 2018-07-25, 2018-08-07, 2018-09-10, 2018-10-08, 2018-11-15, 2018-12-03, 2018-12-05, 2018-12-23, 2019-01-11, 2019-03-02, 2019-05-04, 2019-05-24, 2019-06-12, 2019-07-25, 2019-08-06, 2019-11-11, 2019-12-05, 2019-12-17, 2020-01-07, 2020-01-19, 2020-01-29, 2020-02-17, 2020-03-07, 2020-03-18, 2020-04-22, 2020-05-30, 2020-06-04, 2020-06-13, 2020-06-30, 2020-07-20, 2020-08-18, 2020-08-30, 2020-09-03, 2020-10-06, 2020-10-18, 2020-10-24, 2020-11-05]</td>\n",
       "      <td>[Falcon 1, Falcon 1, Falcon 1, Falcon 1, Falcon 9, Falcon 9, Falcon 9, Falcon 9, Falcon 9, Falcon 9, Falcon 9, Falcon 9, Falcon 9, Falcon 9, Falcon 9, Falcon 9, Falcon 9, Falcon 9, Falcon 9, Falcon 9, Falcon 9, Falcon 9, Falcon 9, Falcon 9, Falcon 9, Falcon 9, Falcon 9, Falcon 9, Falcon 9, Falcon 9, Falcon 9, Falcon 9, Falcon 9, Falcon 9, Falcon 9, Falcon 9, Falcon 9, Falcon 9, Falcon 9, Falcon 9, Falcon 9, Falcon 9, Falcon 9, Falcon 9, Falcon 9, Falcon 9, Falcon 9, Falcon 9, Falcon 9, Falcon 9, Falcon 9, Falcon 9, Falcon 9, Falcon 9, Falcon 9, Falcon 9, Falcon 9, Falcon 9, Falcon 9, Falcon 9, Falcon 9, Falcon 9, Falcon 9, Falcon 9, Falcon 9, Falcon 9, Falcon 9, Falcon 9, Falcon 9, Falcon 9, Falcon 9, Falcon 9, Falcon 9, Falcon 9, Falcon 9, Falcon 9, Falcon 9, Falcon 9, Falcon 9, Falcon 9, Falcon 9, Falcon 9, Falcon 9, Falcon 9, Falcon 9, Falcon 9, Falcon 9, Falcon 9, Falcon 9, Falcon 9, Falcon 9, Falcon 9, Falcon 9, Falcon 9]</td>\n",
       "      <td>[20, None, 165, 200, None, 525, 677, 500, 3170, 3325, 2296, 1316, 4535, 4428, 2216, 2395, 570, 1898, 4707, 2477, 2034, 553, 5271, 3136, 4696, 3100, 2257, 4600, 5500, 9600, 2490, 5600, 5300, None, 6070, 2708, 3669, 9600, 6761, 2910, 475, 4990, 9600, 5200, 3700, 2205, 9600, None, 4230, 6092, 9600, 2760, 350, 3750, 5383.85, 2410, 7076, 9600, 5800, 7060, 2800, 3000, 4000, 2573, 4400, 9600, 12259, 2482, 13200, 1425, 2227.7, 6500, 15600, 5000, 6800, 15600, None, 15600, 15600, 1977, 15600, 15600, 9525, 15600, 15600, 3880, None, 15600, 1600, 15600, 15600, 15600, 15600, 3681]</td>\n",
       "      <td>[LEO, LEO, LEO, LEO, LEO, LEO, ISS, PO, GTO, GTO, ISS, LEO, GTO, GTO, ISS, ISS, ES-L1, ISS, GTO, ISS, LEO, PO, GTO, ISS, GTO, GTO, ISS, GTO, GTO, PO, ISS, GTO, GTO, LEO, GTO, ISS, GTO, PO, GTO, ISS, SSO, LEO, PO, GTO, GTO, ISS, PO, LEO, GTO, GTO, PO, ISS, HEO, GTO, GTO, ISS, GTO, PO, GTO, GTO, SSO, GTO, SSO, ISS, MEO, PO, ISS, ISS, VLEO, SSO, ISS, GTO, VLEO, ISS, GTO, VLEO, SO, VLEO, VLEO, ISS, VLEO, VLEO, ISS, VLEO, VLEO, MEO, GEO, VLEO, SSO, VLEO, VLEO, VLEO, VLEO, MEO]</td>\n",
       "      <td>[Kwajalein Atoll, Kwajalein Atoll, Kwajalein Atoll, Kwajalein Atoll, CCSFS SLC 40, CCSFS SLC 40, CCSFS SLC 40, VAFB SLC 4E, CCSFS SLC 40, CCSFS SLC 40, CCSFS SLC 40, CCSFS SLC 40, CCSFS SLC 40, CCSFS SLC 40, CCSFS SLC 40, CCSFS SLC 40, CCSFS SLC 40, CCSFS SLC 40, CCSFS SLC 40, CCSFS SLC 40, CCSFS SLC 40, VAFB SLC 4E, CCSFS SLC 40, CCSFS SLC 40, CCSFS SLC 40, CCSFS SLC 40, CCSFS SLC 40, CCSFS SLC 40, CCSFS SLC 40, VAFB SLC 4E, KSC LC 39A, KSC LC 39A, KSC LC 39A, KSC LC 39A, KSC LC 39A, KSC LC 39A, KSC LC 39A, VAFB SLC 4E, KSC LC 39A, KSC LC 39A, VAFB SLC 4E, KSC LC 39A, VAFB SLC 4E, KSC LC 39A, KSC LC 39A, CCSFS SLC 40, VAFB SLC 4E, CCSFS SLC 40, CCSFS SLC 40, CCSFS SLC 40, VAFB SLC 4E, CCSFS SLC 40, CCSFS SLC 40, KSC LC 39A, CCSFS SLC 40, CCSFS SLC 40, CCSFS SLC 40, VAFB SLC 4E, CCSFS SLC 40, CCSFS SLC 40, VAFB SLC 4E, KSC LC 39A, VAFB SLC 4E, CCSFS SLC 40, CCSFS SLC 40, VAFB SLC 4E, KSC LC 39A, CCSFS SLC 40, CCSFS SLC 40, VAFB SLC 4E, CCSFS SLC 40, CCSFS SLC 40, CCSFS SLC 40, CCSFS SLC 40, CCSFS SLC 40, CCSFS SLC 40, KSC LC 39A, CCSFS SLC 40, CCSFS SLC 40, CCSFS SLC 40, KSC LC 39A, KSC LC 39A, KSC LC 39A, CCSFS SLC 40, CCSFS SLC 40, CCSFS SLC 40, CCSFS SLC 40, CCSFS SLC 40, CCSFS SLC 40, KSC LC 39A, KSC LC 39A, KSC LC 39A, CCSFS SLC 40, CCSFS SLC 40]</td>\n",
       "      <td>[None None, None None, None None, None None, None None, None None, None None, False Ocean, None None, None None, True Ocean, True Ocean, None None, None None, False Ocean, False ASDS, True Ocean, False ASDS, None None, None ASDS, True RTLS, False ASDS, False ASDS, True ASDS, True ASDS, True ASDS, True RTLS, True ASDS, None ASDS, True ASDS, True RTLS, None None, True ASDS, True RTLS, None None, True RTLS, True ASDS, True ASDS, None None, True RTLS, True ASDS, True RTLS, True ASDS, True ASDS, True ASDS, True RTLS, True Ocean, True RTLS, True Ocean, None None, None None, None None, True ASDS, True ASDS, None None, None None, True ASDS, True ASDS, True ASDS, True ASDS, True RTLS, True ASDS, True ASDS, False RTLS, None None, True ASDS, True ASDS, True ASDS, True ASDS, True RTLS, True RTLS, None None, True ASDS, True ASDS, True ASDS, True ASDS, None None, True ASDS, False ASDS, True RTLS, False ASDS, True ASDS, True ASDS, True ASDS, True ASDS, True ASDS, True ASDS, True ASDS, True RTLS, True ASDS, True ASDS, True ASDS, True ASDS, True ASDS]</td>\n",
       "      <td>[1, 1, 1, 1, 1, 1, 1, 1, 1, 1, 1, 1, 1, 1, 1, 1, 1, 1, 1, 1, 1, 1, 1, 1, 1, 1, 1, 1, 1, 1, 1, 1, 2, 1, 1, 1, 2, 1, 1, 1, 1, 1, 1, 2, 1, 2, 2, 1, 2, 1, 2, 2, 1, 1, 2, 2, 1, 1, 2, 1, 2, 2, 3, 1, 1, 2, 1, 1, 3, 2, 2, 3, 4, 1, 3, 4, 4, 3, 4, 2, 5, 4, 1, 5, 3, 1, 2, 6, 4, 2, 3, 6, 3, 1]</td>\n",
       "      <td>[False, False, False, False, False, False, False, False, False, False, False, False, False, False, False, True, True, True, False, True, True, True, True, True, True, True, True, True, True, True, True, False, True, True, False, True, True, True, False, True, True, True, True, True, True, True, True, True, True, True, True, True, True, True, False, False, True, True, True, True, True, True, True, True, False, True, True, True, True, True, True, False, True, True, True, True, False, True, True, True, True, True, True, True, True, True, True, True, True, True, True, True, True, True]</td>\n",
       "      <td>[False, False, False, False, False, False, False, False, False, False, False, False, False, False, False, False, False, False, False, False, False, False, False, False, False, False, False, False, False, False, False, False, True, False, False, False, True, False, False, False, False, False, False, True, False, True, True, False, True, False, True, True, False, False, True, True, False, False, True, False, True, True, True, False, False, True, False, False, True, True, True, True, True, False, True, True, True, True, True, True, True, True, False, True, True, False, True, True, True, True, True, True, True, False]</td>\n",
       "      <td>[False, False, False, False, False, False, False, False, False, False, True, True, False, False, False, True, True, True, False, True, True, True, True, True, True, True, True, True, True, True, True, False, True, True, False, True, True, True, False, True, True, True, True, True, True, True, False, True, True, True, True, True, True, True, False, False, True, True, True, True, True, True, True, True, False, True, True, True, True, True, True, False, True, True, True, True, False, True, True, True, True, True, True, True, True, True, True, True, True, True, True, True, True, True]</td>\n",
       "      <td>[None, None, None, None, None, None, None, None, None, None, None, None, None, None, None, 5e9e3032383ecb761634e7cb, None, 5e9e3032383ecb761634e7cb, None, 5e9e3032383ecb6bb234e7ca, 5e9e3032383ecb267a34e7c7, 5e9e3033383ecbb9e534e7cc, 5e9e3032383ecb6bb234e7ca, 5e9e3032383ecb6bb234e7ca, 5e9e3032383ecb6bb234e7ca, 5e9e3032383ecb6bb234e7ca, 5e9e3032383ecb267a34e7c7, 5e9e3032383ecb6bb234e7ca, 5e9e3032383ecb6bb234e7ca, 5e9e3033383ecbb9e534e7cc, 5e9e3032383ecb267a34e7c7, None, 5e9e3032383ecb6bb234e7ca, 5e9e3032383ecb267a34e7c7, None, 5e9e3032383ecb267a34e7c7, 5e9e3032383ecb6bb234e7ca, 5e9e3033383ecbb9e534e7cc, None, 5e9e3032383ecb267a34e7c7, 5e9e3033383ecbb9e534e7cc, 5e9e3032383ecb267a34e7c7, 5e9e3033383ecbb9e534e7cc, 5e9e3032383ecb6bb234e7ca, 5e9e3032383ecb6bb234e7ca, 5e9e3032383ecb267a34e7c7, None, 5e9e3032383ecb267a34e7c7, None, None, None, None, 5e9e3032383ecb6bb234e7ca, 5e9e3032383ecb6bb234e7ca, None, None, 5e9e3032383ecb6bb234e7ca, 5e9e3033383ecbb9e534e7cc, 5e9e3032383ecb6bb234e7ca, 5e9e3032383ecb6bb234e7ca, 5e9e3032383ecb554034e7c9, 5e9e3032383ecb6bb234e7ca, 5e9e3033383ecbb9e534e7cc, 5e9e3032383ecb267a34e7c7, None, 5e9e3033383ecbb9e534e7cc, 5e9e3032383ecb6bb234e7ca, 5e9e3032383ecb6bb234e7ca, 5e9e3032383ecb6bb234e7ca, 5e9e3032383ecb554034e7c9, 5e9e3032383ecb267a34e7c7, None, 5e9e3032383ecb6bb234e7ca, 5e9e3032383ecb6bb234e7ca, 5e9e3032383ecb6bb234e7ca, 5e9e3032383ecb6bb234e7ca, None, 5e9e3032383ecb6bb234e7ca, 5e9e3032383ecb6bb234e7ca, 5e9e3032383ecb267a34e7c7, 5e9e3032383ecb6bb234e7ca, 5e9e3032383ecb6bb234e7ca, 5e9e3032383ecb6bb234e7ca, 5e9e3033383ecbb9e534e7cc, 5e9e3032383ecb6bb234e7ca, 5e9e3033383ecbb9e534e7cc, 5e9e3033383ecbb9e534e7cc, 5e9e3032383ecb6bb234e7ca, 5e9e3032383ecb267a34e7c7, 5e9e3032383ecb6bb234e7ca, 5e9e3032383ecb6bb234e7ca, 5e9e3032383ecb6bb234e7ca, 5e9e3033383ecbb9e534e7cc, 5e9e3032383ecb6bb234e7ca]</td>\n",
       "      <td>[None, None, None, None, 1, 1, 1, 1, 1, 1, 1, 1, 1, 1, 1, 1, 1, 1, 1, 1, 1, 1, 1, 2, 2, 2, 2, 2, 3, 3, 3, 3, 2, 3, 3, 3, 3, 3, 3, 4, 3, 4, 4, 3, 4, 3, 3, 4, 3, 4, 4, 4, 4, 5, 4, 4, 5, 5, 5, 5, 5, 5, 5, 5, 5, 5, 5, 5, 5, 5, 5, 5, 5, 5, 5, 5, 5, 5, 5, 5, 5, 5, 5, 5, 5, 5, 5, 5, 5, 5, 5, 5, 5, 5]</td>\n",
       "      <td>[0, 0, 0, 0, 0, 0, 0, 0, 0, 0, 0, 0, 0, 0, 0, 0, 0, 0, 0, 0, 0, 0, 0, 1, 0, 1, 1, 0, 0, 1, 1, 0, 1, 1, 0, 1, 1, 1, 0, 1, 1, 1, 1, 1, 0, 1, 1, 1, 1, 0, 1, 1, 1, 3, 1, 1, 2, 4, 3, 9, 4, 2, 3, 0, 0, 9, 12, 3, 9, 12, 3, 2, 4, 5, 3, 9, 3, 12, 3, 5, 4, 12, 13, 9, 5, 12, 13, 9, 5, 12, 13, 12, 12, 8]</td>\n",
       "      <td>[Merlin1A, Merlin2A, Merlin2C, Merlin3C, B0003, B0005, B0007, B1003, B1004, B1005, B1006, B1007, B1008, B1011, B1010, B1012, B1013, B1015, B1016, B1018, B1019, B1017, B1020, B1021, B1022, B1023, B1025, B1026, B1028, B1029, B1031, B1030, B1021, B1032, B1034, B1035, B1029, B1036, B1037, B1039, B1038, B1040, B1041, B1031, B1042, B1035, B1036, B1043, B1032, B1044, B1041, B1039, B1045, B1046, B1040, B1045, B1047, B1048, B1046, B1049, B1048, B1047, B1046, B1050, B1054, B1049, B1051, B1056, B1049, B1051, B1056, B1047, B1048, B1059, B1056, B1049, B1046, B1051, B1056, B1059, B1048, B1051, B1058, B1049, B1059, B1060, B1058, B1049, B1059, B1060, B1058, B1051, B1060, B1062]</td>\n",
       "      <td>[167.7431292, 167.7431292, 167.7431292, 167.7431292, -80.577366, -80.577366, -80.577366, -120.610829, -80.577366, -80.577366, -80.577366, -80.577366, -80.577366, -80.577366, -80.577366, -80.577366, -80.577366, -80.577366, -80.577366, -80.577366, -80.577366, -120.610829, -80.577366, -80.577366, -80.577366, -80.577366, -80.577366, -80.577366, -80.577366, -120.610829, -80.6039558, -80.6039558, -80.6039558, -80.6039558, -80.6039558, -80.6039558, -80.6039558, -120.610829, -80.6039558, -80.6039558, -120.610829, -80.6039558, -120.610829, -80.6039558, -80.6039558, -80.577366, -120.610829, -80.577366, -80.577366, -80.577366, -120.610829, -80.577366, -80.577366, -80.6039558, -80.577366, -80.577366, -80.577366, -120.610829, -80.577366, -80.577366, -120.610829, -80.6039558, -120.610829, -80.577366, -80.577366, -120.610829, -80.6039558, -80.577366, -80.577366, -120.610829, -80.577366, -80.577366, -80.577366, -80.577366, -80.577366, -80.577366, -80.6039558, -80.577366, -80.577366, -80.577366, -80.6039558, -80.6039558, -80.6039558, -80.577366, -80.577366, -80.577366, -80.577366, -80.577366, -80.577366, -80.6039558, -80.6039558, -80.6039558, -80.577366, -80.577366]</td>\n",
       "      <td>[9.0477206, 9.0477206, 9.0477206, 9.0477206, 28.5618571, 28.5618571, 28.5618571, 34.632093, 28.5618571, 28.5618571, 28.5618571, 28.5618571, 28.5618571, 28.5618571, 28.5618571, 28.5618571, 28.5618571, 28.5618571, 28.5618571, 28.5618571, 28.5618571, 34.632093, 28.5618571, 28.5618571, 28.5618571, 28.5618571, 28.5618571, 28.5618571, 28.5618571, 34.632093, 28.6080585, 28.6080585, 28.6080585, 28.6080585, 28.6080585, 28.6080585, 28.6080585, 34.632093, 28.6080585, 28.6080585, 34.632093, 28.6080585, 34.632093, 28.6080585, 28.6080585, 28.5618571, 34.632093, 28.5618571, 28.5618571, 28.5618571, 34.632093, 28.5618571, 28.5618571, 28.6080585, 28.5618571, 28.5618571, 28.5618571, 34.632093, 28.5618571, 28.5618571, 34.632093, 28.6080585, 34.632093, 28.5618571, 28.5618571, 34.632093, 28.6080585, 28.5618571, 28.5618571, 34.632093, 28.5618571, 28.5618571, 28.5618571, 28.5618571, 28.5618571, 28.5618571, 28.6080585, 28.5618571, 28.5618571, 28.5618571, 28.6080585, 28.6080585, 28.6080585, 28.5618571, 28.5618571, 28.5618571, 28.5618571, 28.5618571, 28.5618571, 28.6080585, 28.6080585, 28.6080585, 28.5618571, 28.5618571]</td>\n",
       "    </tr>\n",
       "  </tbody>\n",
       "</table>\n",
       "</div>"
      ],
      "text/plain": [
       "   FlightNumber  \\\n",
       "0             1   \n",
       "\n",
       "                                                                                                                                                                                                                                                                                                                                                                                                                                                                                                                                                                                                                                                                                                                                                                                                                                                                                                                                                                                                                                                                                                                                                                       Date  \\\n",
       "0  [2006-03-24, 2007-03-21, 2008-09-28, 2009-07-13, 2010-06-04, 2012-05-22, 2013-03-01, 2013-09-29, 2013-12-03, 2014-01-06, 2014-04-18, 2014-07-14, 2014-08-05, 2014-09-07, 2014-09-21, 2015-01-10, 2015-02-11, 2015-04-14, 2015-04-27, 2015-06-28, 2015-12-22, 2016-01-17, 2016-03-04, 2016-04-08, 2016-05-06, 2016-05-27, 2016-07-18, 2016-08-14, 2016-09-01, 2017-01-14, 2017-02-19, 2017-03-16, 2017-03-30, 2017-05-01, 2017-05-15, 2017-06-03, 2017-06-23, 2017-06-25, 2017-07-05, 2017-08-14, 2017-08-24, 2017-09-07, 2017-10-09, 2017-10-11, 2017-10-30, 2017-12-15, 2017-12-23, 2018-01-08, 2018-01-31, 2018-03-06, 2018-03-30, 2018-04-02, 2018-04-18, 2018-05-11, 2018-06-04, 2018-06-29, 2018-07-22, 2018-07-25, 2018-08-07, 2018-09-10, 2018-10-08, 2018-11-15, 2018-12-03, 2018-12-05, 2018-12-23, 2019-01-11, 2019-03-02, 2019-05-04, 2019-05-24, 2019-06-12, 2019-07-25, 2019-08-06, 2019-11-11, 2019-12-05, 2019-12-17, 2020-01-07, 2020-01-19, 2020-01-29, 2020-02-17, 2020-03-07, 2020-03-18, 2020-04-22, 2020-05-30, 2020-06-04, 2020-06-13, 2020-06-30, 2020-07-20, 2020-08-18, 2020-08-30, 2020-09-03, 2020-10-06, 2020-10-18, 2020-10-24, 2020-11-05]   \n",
       "\n",
       "                                                                                                                                                                                                                                                                                                                                                                                                                                                                                                                                                                                                                                                                                                                                                                                                                                                                                                                                                                 BoosterVersion  \\\n",
       "0  [Falcon 1, Falcon 1, Falcon 1, Falcon 1, Falcon 9, Falcon 9, Falcon 9, Falcon 9, Falcon 9, Falcon 9, Falcon 9, Falcon 9, Falcon 9, Falcon 9, Falcon 9, Falcon 9, Falcon 9, Falcon 9, Falcon 9, Falcon 9, Falcon 9, Falcon 9, Falcon 9, Falcon 9, Falcon 9, Falcon 9, Falcon 9, Falcon 9, Falcon 9, Falcon 9, Falcon 9, Falcon 9, Falcon 9, Falcon 9, Falcon 9, Falcon 9, Falcon 9, Falcon 9, Falcon 9, Falcon 9, Falcon 9, Falcon 9, Falcon 9, Falcon 9, Falcon 9, Falcon 9, Falcon 9, Falcon 9, Falcon 9, Falcon 9, Falcon 9, Falcon 9, Falcon 9, Falcon 9, Falcon 9, Falcon 9, Falcon 9, Falcon 9, Falcon 9, Falcon 9, Falcon 9, Falcon 9, Falcon 9, Falcon 9, Falcon 9, Falcon 9, Falcon 9, Falcon 9, Falcon 9, Falcon 9, Falcon 9, Falcon 9, Falcon 9, Falcon 9, Falcon 9, Falcon 9, Falcon 9, Falcon 9, Falcon 9, Falcon 9, Falcon 9, Falcon 9, Falcon 9, Falcon 9, Falcon 9, Falcon 9, Falcon 9, Falcon 9, Falcon 9, Falcon 9, Falcon 9, Falcon 9, Falcon 9, Falcon 9]   \n",
       "\n",
       "                                                                                                                                                                                                                                                                                                                                                                                                                                                                                                                                                                                     PayloadMass  \\\n",
       "0  [20, None, 165, 200, None, 525, 677, 500, 3170, 3325, 2296, 1316, 4535, 4428, 2216, 2395, 570, 1898, 4707, 2477, 2034, 553, 5271, 3136, 4696, 3100, 2257, 4600, 5500, 9600, 2490, 5600, 5300, None, 6070, 2708, 3669, 9600, 6761, 2910, 475, 4990, 9600, 5200, 3700, 2205, 9600, None, 4230, 6092, 9600, 2760, 350, 3750, 5383.85, 2410, 7076, 9600, 5800, 7060, 2800, 3000, 4000, 2573, 4400, 9600, 12259, 2482, 13200, 1425, 2227.7, 6500, 15600, 5000, 6800, 15600, None, 15600, 15600, 1977, 15600, 15600, 9525, 15600, 15600, 3880, None, 15600, 1600, 15600, 15600, 15600, 15600, 3681]   \n",
       "\n",
       "                                                                                                                                                                                                                                                                                                                                                                                                                                                                                          Orbit  \\\n",
       "0  [LEO, LEO, LEO, LEO, LEO, LEO, ISS, PO, GTO, GTO, ISS, LEO, GTO, GTO, ISS, ISS, ES-L1, ISS, GTO, ISS, LEO, PO, GTO, ISS, GTO, GTO, ISS, GTO, GTO, PO, ISS, GTO, GTO, LEO, GTO, ISS, GTO, PO, GTO, ISS, SSO, LEO, PO, GTO, GTO, ISS, PO, LEO, GTO, GTO, PO, ISS, HEO, GTO, GTO, ISS, GTO, PO, GTO, GTO, SSO, GTO, SSO, ISS, MEO, PO, ISS, ISS, VLEO, SSO, ISS, GTO, VLEO, ISS, GTO, VLEO, SO, VLEO, VLEO, ISS, VLEO, VLEO, ISS, VLEO, VLEO, MEO, GEO, VLEO, SSO, VLEO, VLEO, VLEO, VLEO, MEO]   \n",
       "\n",
       "                                                                                                                                                                                                                                                                                                                                                                                                                                                                                                                                                                                                                                                                                                                                                                                                                                                                                                                                                                                                                                                                                                                                                                                                                                                                                                                LaunchSite  \\\n",
       "0  [Kwajalein Atoll, Kwajalein Atoll, Kwajalein Atoll, Kwajalein Atoll, CCSFS SLC 40, CCSFS SLC 40, CCSFS SLC 40, VAFB SLC 4E, CCSFS SLC 40, CCSFS SLC 40, CCSFS SLC 40, CCSFS SLC 40, CCSFS SLC 40, CCSFS SLC 40, CCSFS SLC 40, CCSFS SLC 40, CCSFS SLC 40, CCSFS SLC 40, CCSFS SLC 40, CCSFS SLC 40, CCSFS SLC 40, VAFB SLC 4E, CCSFS SLC 40, CCSFS SLC 40, CCSFS SLC 40, CCSFS SLC 40, CCSFS SLC 40, CCSFS SLC 40, CCSFS SLC 40, VAFB SLC 4E, KSC LC 39A, KSC LC 39A, KSC LC 39A, KSC LC 39A, KSC LC 39A, KSC LC 39A, KSC LC 39A, VAFB SLC 4E, KSC LC 39A, KSC LC 39A, VAFB SLC 4E, KSC LC 39A, VAFB SLC 4E, KSC LC 39A, KSC LC 39A, CCSFS SLC 40, VAFB SLC 4E, CCSFS SLC 40, CCSFS SLC 40, CCSFS SLC 40, VAFB SLC 4E, CCSFS SLC 40, CCSFS SLC 40, KSC LC 39A, CCSFS SLC 40, CCSFS SLC 40, CCSFS SLC 40, VAFB SLC 4E, CCSFS SLC 40, CCSFS SLC 40, VAFB SLC 4E, KSC LC 39A, VAFB SLC 4E, CCSFS SLC 40, CCSFS SLC 40, VAFB SLC 4E, KSC LC 39A, CCSFS SLC 40, CCSFS SLC 40, VAFB SLC 4E, CCSFS SLC 40, CCSFS SLC 40, CCSFS SLC 40, CCSFS SLC 40, CCSFS SLC 40, CCSFS SLC 40, KSC LC 39A, CCSFS SLC 40, CCSFS SLC 40, CCSFS SLC 40, KSC LC 39A, KSC LC 39A, KSC LC 39A, CCSFS SLC 40, CCSFS SLC 40, CCSFS SLC 40, CCSFS SLC 40, CCSFS SLC 40, CCSFS SLC 40, KSC LC 39A, KSC LC 39A, KSC LC 39A, CCSFS SLC 40, CCSFS SLC 40]   \n",
       "\n",
       "                                                                                                                                                                                                                                                                                                                                                                                                                                                                                                                                                                                                                                                                                                                                                                                                                                                                                                                                                                                                                                                                                      Outcome  \\\n",
       "0  [None None, None None, None None, None None, None None, None None, None None, False Ocean, None None, None None, True Ocean, True Ocean, None None, None None, False Ocean, False ASDS, True Ocean, False ASDS, None None, None ASDS, True RTLS, False ASDS, False ASDS, True ASDS, True ASDS, True ASDS, True RTLS, True ASDS, None ASDS, True ASDS, True RTLS, None None, True ASDS, True RTLS, None None, True RTLS, True ASDS, True ASDS, None None, True RTLS, True ASDS, True RTLS, True ASDS, True ASDS, True ASDS, True RTLS, True Ocean, True RTLS, True Ocean, None None, None None, None None, True ASDS, True ASDS, None None, None None, True ASDS, True ASDS, True ASDS, True ASDS, True RTLS, True ASDS, True ASDS, False RTLS, None None, True ASDS, True ASDS, True ASDS, True ASDS, True RTLS, True RTLS, None None, True ASDS, True ASDS, True ASDS, True ASDS, None None, True ASDS, False ASDS, True RTLS, False ASDS, True ASDS, True ASDS, True ASDS, True ASDS, True ASDS, True ASDS, True ASDS, True RTLS, True ASDS, True ASDS, True ASDS, True ASDS, True ASDS]   \n",
       "\n",
       "                                                                                                                                                                                                                                                                                      Flights  \\\n",
       "0  [1, 1, 1, 1, 1, 1, 1, 1, 1, 1, 1, 1, 1, 1, 1, 1, 1, 1, 1, 1, 1, 1, 1, 1, 1, 1, 1, 1, 1, 1, 1, 1, 2, 1, 1, 1, 2, 1, 1, 1, 1, 1, 1, 2, 1, 2, 2, 1, 2, 1, 2, 2, 1, 1, 2, 2, 1, 1, 2, 1, 2, 2, 3, 1, 1, 2, 1, 1, 3, 2, 2, 3, 4, 1, 3, 4, 4, 3, 4, 2, 5, 4, 1, 5, 3, 1, 2, 6, 4, 2, 3, 6, 3, 1]   \n",
       "\n",
       "                                                                                                                                                                                                                                                                                                                                                                                                                                                                                                                                                                                                       GridFins  \\\n",
       "0  [False, False, False, False, False, False, False, False, False, False, False, False, False, False, False, True, True, True, False, True, True, True, True, True, True, True, True, True, True, True, True, False, True, True, False, True, True, True, False, True, True, True, True, True, True, True, True, True, True, True, True, True, True, True, False, False, True, True, True, True, True, True, True, True, False, True, True, True, True, True, True, False, True, True, True, True, False, True, True, True, True, True, True, True, True, True, True, True, True, True, True, True, True, True]   \n",
       "\n",
       "                                                                                                                                                                                                                                                                                                                                                                                                                                                                                                                                                                                                                                          Reused  \\\n",
       "0  [False, False, False, False, False, False, False, False, False, False, False, False, False, False, False, False, False, False, False, False, False, False, False, False, False, False, False, False, False, False, False, False, True, False, False, False, True, False, False, False, False, False, False, True, False, True, True, False, True, False, True, True, False, False, True, True, False, False, True, False, True, True, True, False, False, True, False, False, True, True, True, True, True, False, True, True, True, True, True, True, True, True, False, True, True, False, True, True, True, True, True, True, True, False]   \n",
       "\n",
       "                                                                                                                                                                                                                                                                                                                                                                                                                                                                                                                                                                                                          Legs  \\\n",
       "0  [False, False, False, False, False, False, False, False, False, False, True, True, False, False, False, True, True, True, False, True, True, True, True, True, True, True, True, True, True, True, True, False, True, True, False, True, True, True, False, True, True, True, True, True, True, True, False, True, True, True, True, True, True, True, False, False, True, True, True, True, True, True, True, True, False, True, True, True, True, True, True, False, True, True, True, True, False, True, True, True, True, True, True, True, True, True, True, True, True, True, True, True, True, True]   \n",
       "\n",
       "                                                                                                                                                                                                                                                                                                                                                                                                                                                                                                                                                                                                                                                                                                                                                                                                                                                                                                                                                                                                                                                                                                                                                                                                                                                                                                                                                                                                                                                                                                                                                                                                                                                                                                                                                                                                                                                                                                             LandingPad  \\\n",
       "0  [None, None, None, None, None, None, None, None, None, None, None, None, None, None, None, 5e9e3032383ecb761634e7cb, None, 5e9e3032383ecb761634e7cb, None, 5e9e3032383ecb6bb234e7ca, 5e9e3032383ecb267a34e7c7, 5e9e3033383ecbb9e534e7cc, 5e9e3032383ecb6bb234e7ca, 5e9e3032383ecb6bb234e7ca, 5e9e3032383ecb6bb234e7ca, 5e9e3032383ecb6bb234e7ca, 5e9e3032383ecb267a34e7c7, 5e9e3032383ecb6bb234e7ca, 5e9e3032383ecb6bb234e7ca, 5e9e3033383ecbb9e534e7cc, 5e9e3032383ecb267a34e7c7, None, 5e9e3032383ecb6bb234e7ca, 5e9e3032383ecb267a34e7c7, None, 5e9e3032383ecb267a34e7c7, 5e9e3032383ecb6bb234e7ca, 5e9e3033383ecbb9e534e7cc, None, 5e9e3032383ecb267a34e7c7, 5e9e3033383ecbb9e534e7cc, 5e9e3032383ecb267a34e7c7, 5e9e3033383ecbb9e534e7cc, 5e9e3032383ecb6bb234e7ca, 5e9e3032383ecb6bb234e7ca, 5e9e3032383ecb267a34e7c7, None, 5e9e3032383ecb267a34e7c7, None, None, None, None, 5e9e3032383ecb6bb234e7ca, 5e9e3032383ecb6bb234e7ca, None, None, 5e9e3032383ecb6bb234e7ca, 5e9e3033383ecbb9e534e7cc, 5e9e3032383ecb6bb234e7ca, 5e9e3032383ecb6bb234e7ca, 5e9e3032383ecb554034e7c9, 5e9e3032383ecb6bb234e7ca, 5e9e3033383ecbb9e534e7cc, 5e9e3032383ecb267a34e7c7, None, 5e9e3033383ecbb9e534e7cc, 5e9e3032383ecb6bb234e7ca, 5e9e3032383ecb6bb234e7ca, 5e9e3032383ecb6bb234e7ca, 5e9e3032383ecb554034e7c9, 5e9e3032383ecb267a34e7c7, None, 5e9e3032383ecb6bb234e7ca, 5e9e3032383ecb6bb234e7ca, 5e9e3032383ecb6bb234e7ca, 5e9e3032383ecb6bb234e7ca, None, 5e9e3032383ecb6bb234e7ca, 5e9e3032383ecb6bb234e7ca, 5e9e3032383ecb267a34e7c7, 5e9e3032383ecb6bb234e7ca, 5e9e3032383ecb6bb234e7ca, 5e9e3032383ecb6bb234e7ca, 5e9e3033383ecbb9e534e7cc, 5e9e3032383ecb6bb234e7ca, 5e9e3033383ecbb9e534e7cc, 5e9e3033383ecbb9e534e7cc, 5e9e3032383ecb6bb234e7ca, 5e9e3032383ecb267a34e7c7, 5e9e3032383ecb6bb234e7ca, 5e9e3032383ecb6bb234e7ca, 5e9e3032383ecb6bb234e7ca, 5e9e3033383ecbb9e534e7cc, 5e9e3032383ecb6bb234e7ca]   \n",
       "\n",
       "                                                                                                                                                                                                                                                                                                    Block  \\\n",
       "0  [None, None, None, None, 1, 1, 1, 1, 1, 1, 1, 1, 1, 1, 1, 1, 1, 1, 1, 1, 1, 1, 1, 2, 2, 2, 2, 2, 3, 3, 3, 3, 2, 3, 3, 3, 3, 3, 3, 4, 3, 4, 4, 3, 4, 3, 3, 4, 3, 4, 4, 4, 4, 5, 4, 4, 5, 5, 5, 5, 5, 5, 5, 5, 5, 5, 5, 5, 5, 5, 5, 5, 5, 5, 5, 5, 5, 5, 5, 5, 5, 5, 5, 5, 5, 5, 5, 5, 5, 5, 5, 5, 5, 5]   \n",
       "\n",
       "                                                                                                                                                                                                                                                                                             ReusedCount  \\\n",
       "0  [0, 0, 0, 0, 0, 0, 0, 0, 0, 0, 0, 0, 0, 0, 0, 0, 0, 0, 0, 0, 0, 0, 0, 1, 0, 1, 1, 0, 0, 1, 1, 0, 1, 1, 0, 1, 1, 1, 0, 1, 1, 1, 1, 1, 0, 1, 1, 1, 1, 0, 1, 1, 1, 3, 1, 1, 2, 4, 3, 9, 4, 2, 3, 0, 0, 9, 12, 3, 9, 12, 3, 2, 4, 5, 3, 9, 3, 12, 3, 5, 4, 12, 13, 9, 5, 12, 13, 9, 5, 12, 13, 12, 12, 8]   \n",
       "\n",
       "                                                                                                                                                                                                                                                                                                                                                                                                                                                                                                                                                                                                                                                                                           Serial  \\\n",
       "0  [Merlin1A, Merlin2A, Merlin2C, Merlin3C, B0003, B0005, B0007, B1003, B1004, B1005, B1006, B1007, B1008, B1011, B1010, B1012, B1013, B1015, B1016, B1018, B1019, B1017, B1020, B1021, B1022, B1023, B1025, B1026, B1028, B1029, B1031, B1030, B1021, B1032, B1034, B1035, B1029, B1036, B1037, B1039, B1038, B1040, B1041, B1031, B1042, B1035, B1036, B1043, B1032, B1044, B1041, B1039, B1045, B1046, B1040, B1045, B1047, B1048, B1046, B1049, B1048, B1047, B1046, B1050, B1054, B1049, B1051, B1056, B1049, B1051, B1056, B1047, B1048, B1059, B1056, B1049, B1046, B1051, B1056, B1059, B1048, B1051, B1058, B1049, B1059, B1060, B1058, B1049, B1059, B1060, B1058, B1051, B1060, B1062]   \n",
       "\n",
       "                                                                                                                                                                                                                                                                                                                                                                                                                                                                                                                                                                                                                                                                                                                                                                                                                                                                                                                                                                                                                                                                                                                                                                                                         Longitude  \\\n",
       "0  [167.7431292, 167.7431292, 167.7431292, 167.7431292, -80.577366, -80.577366, -80.577366, -120.610829, -80.577366, -80.577366, -80.577366, -80.577366, -80.577366, -80.577366, -80.577366, -80.577366, -80.577366, -80.577366, -80.577366, -80.577366, -80.577366, -120.610829, -80.577366, -80.577366, -80.577366, -80.577366, -80.577366, -80.577366, -80.577366, -120.610829, -80.6039558, -80.6039558, -80.6039558, -80.6039558, -80.6039558, -80.6039558, -80.6039558, -120.610829, -80.6039558, -80.6039558, -120.610829, -80.6039558, -120.610829, -80.6039558, -80.6039558, -80.577366, -120.610829, -80.577366, -80.577366, -80.577366, -120.610829, -80.577366, -80.577366, -80.6039558, -80.577366, -80.577366, -80.577366, -120.610829, -80.577366, -80.577366, -120.610829, -80.6039558, -120.610829, -80.577366, -80.577366, -120.610829, -80.6039558, -80.577366, -80.577366, -120.610829, -80.577366, -80.577366, -80.577366, -80.577366, -80.577366, -80.577366, -80.6039558, -80.577366, -80.577366, -80.577366, -80.6039558, -80.6039558, -80.6039558, -80.577366, -80.577366, -80.577366, -80.577366, -80.577366, -80.577366, -80.6039558, -80.6039558, -80.6039558, -80.577366, -80.577366]   \n",
       "\n",
       "                                                                                                                                                                                                                                                                                                                                                                                                                                                                                                                                                                                                                                                                                                                                                                                                                                                                                                                                                                                                                                                                                                                                                  Latitude  \n",
       "0  [9.0477206, 9.0477206, 9.0477206, 9.0477206, 28.5618571, 28.5618571, 28.5618571, 34.632093, 28.5618571, 28.5618571, 28.5618571, 28.5618571, 28.5618571, 28.5618571, 28.5618571, 28.5618571, 28.5618571, 28.5618571, 28.5618571, 28.5618571, 28.5618571, 34.632093, 28.5618571, 28.5618571, 28.5618571, 28.5618571, 28.5618571, 28.5618571, 28.5618571, 34.632093, 28.6080585, 28.6080585, 28.6080585, 28.6080585, 28.6080585, 28.6080585, 28.6080585, 34.632093, 28.6080585, 28.6080585, 34.632093, 28.6080585, 34.632093, 28.6080585, 28.6080585, 28.5618571, 34.632093, 28.5618571, 28.5618571, 28.5618571, 34.632093, 28.5618571, 28.5618571, 28.6080585, 28.5618571, 28.5618571, 28.5618571, 34.632093, 28.5618571, 28.5618571, 34.632093, 28.6080585, 34.632093, 28.5618571, 28.5618571, 34.632093, 28.6080585, 28.5618571, 28.5618571, 34.632093, 28.5618571, 28.5618571, 28.5618571, 28.5618571, 28.5618571, 28.5618571, 28.6080585, 28.5618571, 28.5618571, 28.5618571, 28.6080585, 28.6080585, 28.6080585, 28.5618571, 28.5618571, 28.5618571, 28.5618571, 28.5618571, 28.5618571, 28.6080585, 28.6080585, 28.6080585, 28.5618571, 28.5618571]  "
      ]
     },
     "execution_count": 30,
     "metadata": {},
     "output_type": "execute_result"
    }
   ],
   "source": [
    "data_falcon9.loc[:,'FlightNumber'] = list(range(1, data_falcon9.shape[0]+1))\n",
    "data_falcon9"
   ]
  },
  {
   "cell_type": "markdown",
   "metadata": {},
   "source": [
    "## Data Wrangling\n"
   ]
  },
  {
   "cell_type": "markdown",
   "metadata": {},
   "source": [
    "We can see below that some of the rows are missing values in our dataset.\n"
   ]
  },
  {
   "cell_type": "code",
   "execution_count": 31,
   "metadata": {
    "tags": []
   },
   "outputs": [
    {
     "data": {
      "text/plain": [
       "FlightNumber      0\n",
       "Date              0\n",
       "BoosterVersion    0\n",
       "PayloadMass       0\n",
       "Orbit             0\n",
       "LaunchSite        0\n",
       "Outcome           0\n",
       "Flights           0\n",
       "GridFins          0\n",
       "Reused            0\n",
       "Legs              0\n",
       "LandingPad        0\n",
       "Block             0\n",
       "ReusedCount       0\n",
       "Serial            0\n",
       "Longitude         0\n",
       "Latitude          0\n",
       "dtype: int64"
      ]
     },
     "execution_count": 31,
     "metadata": {},
     "output_type": "execute_result"
    }
   ],
   "source": [
    "data_falcon9.isnull().sum()"
   ]
  },
  {
   "cell_type": "markdown",
   "metadata": {},
   "source": [
    "Before we can continue we must deal with these missing values. The <code>LandingPad</code> column will retain None values to represent when landing pads were not used.\n"
   ]
  },
  {
   "cell_type": "markdown",
   "metadata": {},
   "source": [
    "### Task 3: Dealing with Missing Values\n"
   ]
  },
  {
   "cell_type": "markdown",
   "metadata": {},
   "source": [
    "Calculate below the mean for the <code>PayloadMass</code> using the <code>.mean()</code>. Then use the mean and the <code>.replace()</code> function to replace `np.nan` values in the data with the mean you calculated.\n"
   ]
  },
  {
   "cell_type": "code",
   "execution_count": 32,
   "metadata": {
    "tags": []
   },
   "outputs": [
    {
     "name": "stdout",
     "output_type": "stream",
     "text": [
      "0    5919.165341\n",
      "dtype: float64\n"
     ]
    }
   ],
   "source": [
    "# Calculate the mean value of PayloadMass column\n",
    "PayloadMass = pd.DataFrame(data_falcon9['PayloadMass'].values.tolist()).mean(1)\n",
    "print(PayloadMass) \n",
    "# Replace the np.nan values with its mean value"
   ]
  },
  {
   "cell_type": "markdown",
   "metadata": {},
   "source": [
    "You should see the number of missing values of the <code>PayLoadMass</code> change to zero.\n"
   ]
  },
  {
   "cell_type": "markdown",
   "metadata": {},
   "source": [
    "Now we should have no missing values in our dataset except for in <code>LandingPad</code>.\n"
   ]
  },
  {
   "cell_type": "markdown",
   "metadata": {},
   "source": [
    "We can now export it to a <b>CSV</b> for the next section,but to make the answers consistent, in the next lab we will provide data in a pre-selected date range. \n"
   ]
  },
  {
   "cell_type": "markdown",
   "metadata": {},
   "source": [
    "<code>data_falcon9.to_csv('dataset_part_1.csv', index=False)</code>\n"
   ]
  },
  {
   "cell_type": "markdown",
   "metadata": {},
   "source": [
    "## Authors\n"
   ]
  },
  {
   "cell_type": "markdown",
   "metadata": {},
   "source": [
    "<a href=\"https://www.linkedin.com/in/joseph-s-50398b136/?utm_medium=Exinfluencer&utm_source=Exinfluencer&utm_content=000026UJ&utm_term=10006555&utm_id=NA-SkillsNetwork-Channel-SkillsNetworkCoursesIBMDS0321ENSkillsNetwork865-2022-01-01\">Joseph Santarcangelo</a> has a PhD in Electrical Engineering, his research focused on using machine learning, signal processing, and computer vision to determine how videos impact human cognition. Joseph has been working for IBM since he completed his PhD. \n"
   ]
  },
  {
   "cell_type": "markdown",
   "metadata": {},
   "source": [
    "## Change Log\n"
   ]
  },
  {
   "cell_type": "markdown",
   "metadata": {},
   "source": [
    "|Date (YYYY-MM-DD)|Version|Changed By|Change Description|\n",
    "|-|-|-|-|\n",
    "|2020-09-20|1.1|Joseph|get result each time you run|\n",
    "|2020-09-20|1.1|Azim |Created Part 1 Lab using SpaceX API|\n",
    "|2020-09-20|1.0|Joseph |Modified Multiple Areas|\n"
   ]
  },
  {
   "cell_type": "markdown",
   "metadata": {},
   "source": [
    "Copyright © 2021 IBM Corporation. All rights reserved.\n"
   ]
  }
 ],
 "metadata": {
  "kernelspec": {
   "display_name": "Python",
   "language": "python",
   "name": "conda-env-python-py"
  },
  "language_info": {
   "codemirror_mode": {
    "name": "ipython",
    "version": 3
   },
   "file_extension": ".py",
   "mimetype": "text/x-python",
   "name": "python",
   "nbconvert_exporter": "python",
   "pygments_lexer": "ipython3",
   "version": "3.7.12"
  }
 },
 "nbformat": 4,
 "nbformat_minor": 4
}
